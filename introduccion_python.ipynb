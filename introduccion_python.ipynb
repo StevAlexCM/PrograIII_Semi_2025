{
  "nbformat": 4,
  "nbformat_minor": 0,
  "metadata": {
    "colab": {
      "provenance": [],
      "authorship_tag": "ABX9TyPGhK8M2P4L80uidS/2j+vz",
      "include_colab_link": true
    },
    "kernelspec": {
      "name": "python3",
      "display_name": "Python 3"
    },
    "language_info": {
      "name": "python"
    }
  },
  "cells": [
    {
      "cell_type": "markdown",
      "metadata": {
        "id": "view-in-github",
        "colab_type": "text"
      },
      "source": [
        "<a href=\"https://colab.research.google.com/github/StevAlexCM/PrograIII_Semi_2025/blob/main/introduccion_python.ipynb\" target=\"_parent\"><img src=\"https://colab.research.google.com/assets/colab-badge.svg\" alt=\"Open In Colab\"/></a>"
      ]
    },
    {
      "cell_type": "code",
      "execution_count": null,
      "metadata": {
        "colab": {
          "base_uri": "https://localhost:8080/"
        },
        "id": "Mk7efW3kUfTu",
        "outputId": "6062fc56-053c-4293-e8bc-9378df93a98d"
      },
      "outputs": [
        {
          "output_type": "stream",
          "name": "stdout",
          "text": [
            "Hola mundo!\n",
            "Bienvenidos a la clase de programacion computacional III\n"
          ]
        }
      ],
      "source": [
        "print(\"Hola mundo!\")\n",
        "print(\"Bienvenidos a la clase de programacion computacional III\")"
      ]
    },
    {
      "cell_type": "code",
      "source": [
        "nombre = \"Steven Campos\"\n",
        "edad = 19\n",
        "print (nombre, edad)\n",
        "\n",
        "edad = \"diecinueve\"\n",
        "print (\"tu edad: \" , edad)"
      ],
      "metadata": {
        "colab": {
          "base_uri": "https://localhost:8080/"
        },
        "id": "3I5zViiPVB2v",
        "outputId": "3b30c8e9-9875-4e37-acd0-dc4e2c24f89e"
      },
      "execution_count": null,
      "outputs": [
        {
          "output_type": "stream",
          "name": "stdout",
          "text": [
            "Steven Campos 19\n",
            "tu edad:  diecinueve\n"
          ]
        }
      ]
    },
    {
      "cell_type": "code",
      "source": [
        "num1 = 7\n",
        "num2= 6.5\n",
        "suma = num1 + num2\n",
        "print(\"La suma es:\", suma)"
      ],
      "metadata": {
        "colab": {
          "base_uri": "https://localhost:8080/"
        },
        "id": "6iIge-InWLPH",
        "outputId": "16fc8ba5-e6bb-4534-fe5c-55a8518f38a8"
      },
      "execution_count": null,
      "outputs": [
        {
          "output_type": "stream",
          "name": "stdout",
          "text": [
            "La suma es: 13.5\n"
          ]
        }
      ]
    },
    {
      "cell_type": "code",
      "source": [
        "num1 = float (input(\"Num1: \"))\n",
        "num2 = float (input(\"Num2: \"))\n",
        "suma = num1 + num2\n",
        "print(\"La suma es: \", suma)"
      ],
      "metadata": {
        "colab": {
          "base_uri": "https://localhost:8080/"
        },
        "id": "a8qBZzF1WOOR",
        "outputId": "eba019b2-0ec3-4044-ac34-05520799769f"
      },
      "execution_count": null,
      "outputs": [
        {
          "output_type": "stream",
          "name": "stdout",
          "text": [
            "Num1: 5\n",
            "Num2: 3\n",
            "La suma es:  8.0\n"
          ]
        }
      ]
    },
    {
      "cell_type": "code",
      "source": [
        "num1 = float(input(\"Num1: \"))\n",
        "num2 = float(input(\"Num2: \"))\n",
        "resta = num1 - num2\n",
        "print(\"La resta es: \", resta)"
      ],
      "metadata": {
        "colab": {
          "base_uri": "https://localhost:8080/"
        },
        "id": "l17QaFasXxOX",
        "outputId": "7f2a4ead-3bef-4121-c431-5d3e19244af0"
      },
      "execution_count": null,
      "outputs": [
        {
          "output_type": "stream",
          "name": "stdout",
          "text": [
            "Num1: 8\n",
            "Num2: 3\n",
            "La resta es:  5.0\n"
          ]
        }
      ]
    },
    {
      "cell_type": "code",
      "source": [
        "# entero\n",
        "num1 = 6\n",
        "print (str(num1) + \" Esto es un numero entero\")\n",
        "\n",
        "#Decimal\n",
        "num2 = 7.5\n",
        "print(num2, \"Esto es un numero decimal\")\n",
        "\n",
        "#Boolenao\n",
        "esMayor = True\n",
        "print(esMayor, \"Esto es un booleano\")\n",
        "\n",
        "#Cadena\n",
        "nombre = \"Steven Campos\"\n",
        "print(nombre, \"Esto es una cadena\")\n",
        "print(nombre, \"Letra inicial:\", nombre[0],\"Un valor en especifico:\", nombre[5], \"rango:\", nombre[0:6],\"Comenzar desde el final:\", nombre[-1])\n",
        "\n",
        "#Fecha\n",
        "from datetime import datetime, date, time\n",
        "fecha = datetime.now()\n",
        "print(fecha, fecha.date(), fecha.time())\n",
        "print(type(fecha))\n",
        "\n",
        "\n",
        "fechaPersonalizada = date(2025,8,1)\n",
        "print(fechaPersonalizada)\n"
      ],
      "metadata": {
        "colab": {
          "base_uri": "https://localhost:8080/"
        },
        "id": "mFEJVFUmX5oD",
        "outputId": "5d314d74-54eb-4e31-b27a-569b33a25c29"
      },
      "execution_count": null,
      "outputs": [
        {
          "output_type": "stream",
          "name": "stdout",
          "text": [
            "6 Esto es un numero entero\n",
            "7.5 Esto es un numero decimal\n",
            "True Esto es un booleano\n",
            "Steven Campos Esto es una cadena\n",
            "Steven Campos Letra inicial: S Un valor en especifico: n rango: Steven Comenzar desde el final: s\n",
            "2025-07-29 13:30:13.477512 2025-07-29 13:30:13.477512\n",
            "<class 'datetime.datetime'>\n",
            "2025-08-01\n"
          ]
        }
      ]
    },
    {
      "cell_type": "code",
      "source": [
        "#Suma\n",
        "def suma(num1, num2):\n",
        "    return num1 + num2"
      ],
      "metadata": {
        "id": "ANjgzoipYHRd"
      },
      "execution_count": null,
      "outputs": []
    },
    {
      "cell_type": "code",
      "source": [
        "print( \"la suma de 5 + 8 es: \", suma(5,8))"
      ],
      "metadata": {
        "colab": {
          "base_uri": "https://localhost:8080/"
        },
        "id": "aP7oo57TYNgz",
        "outputId": "3d1a5141-f296-42c0-a81a-97e4a843d053"
      },
      "execution_count": null,
      "outputs": [
        {
          "output_type": "stream",
          "name": "stdout",
          "text": [
            "la suma de 5 + 8 es:  13\n"
          ]
        }
      ]
    },
    {
      "cell_type": "code",
      "source": [
        "num1 = float(input(\"Num1: \"))\n",
        "num2 = float(input(\"Num2: \"))\n",
        "respuesta = suma(num1, num2)\n",
        "print(\"La suma es: \", respuesta)"
      ],
      "metadata": {
        "colab": {
          "base_uri": "https://localhost:8080/"
        },
        "id": "ZfhA2CpVYYKV",
        "outputId": "ad816809-92df-4266-fb21-8ec19e10e53a"
      },
      "execution_count": null,
      "outputs": [
        {
          "output_type": "stream",
          "name": "stdout",
          "text": [
            "Num1: 8\n",
            "Num2: 10\n",
            "La suma es:  18.0\n"
          ]
        }
      ]
    },
    {
      "cell_type": "markdown",
      "source": [
        "Tarea."
      ],
      "metadata": {
        "id": "AWwskTHHYgrZ"
      }
    },
    {
      "cell_type": "code",
      "source": [
        "#Resta\n",
        "def resta(num1, num2):\n",
        "    return num1 - num2"
      ],
      "metadata": {
        "id": "ly6OlMaNYlTf"
      },
      "execution_count": null,
      "outputs": []
    },
    {
      "cell_type": "code",
      "source": [
        "print( \"la resta de 5 - 8 es: \", resta(5,8))"
      ],
      "metadata": {
        "colab": {
          "base_uri": "https://localhost:8080/"
        },
        "id": "hNyGL-hHYtxu",
        "outputId": "f1013abf-010c-4131-d9e2-689a4dc3c2d2"
      },
      "execution_count": null,
      "outputs": [
        {
          "output_type": "stream",
          "name": "stdout",
          "text": [
            "la resta de 5 - 8 es:  -3\n"
          ]
        }
      ]
    },
    {
      "cell_type": "code",
      "source": [
        "num1 = float(input(\"Num1: \"))\n",
        "num2 = float(input(\"Num2: \"))\n",
        "respuesta = resta(num1, num2)\n",
        "print(\"La resta es: \", respuesta)"
      ],
      "metadata": {
        "colab": {
          "base_uri": "https://localhost:8080/"
        },
        "id": "6ttGLBaGYvFB",
        "outputId": "d808c07d-0987-4da2-bc46-8f7c713eabe6"
      },
      "execution_count": null,
      "outputs": [
        {
          "output_type": "stream",
          "name": "stdout",
          "text": [
            "Num1: 9\n",
            "Num2: 6\n",
            "La resta es:  3.0\n"
          ]
        }
      ]
    },
    {
      "cell_type": "code",
      "source": [
        "#Celcius a farenheith.\n",
        "def celciusFarenheith(c):\n",
        "  return c*1.8 + 32"
      ],
      "metadata": {
        "id": "gSI3XJKhY079"
      },
      "execution_count": null,
      "outputs": []
    },
    {
      "cell_type": "code",
      "source": [
        "c = int (input(\"grados c: \"))\n",
        "f = celciusFarenheith(c)\n",
        "print(\"F: \", f)"
      ],
      "metadata": {
        "colab": {
          "base_uri": "https://localhost:8080/"
        },
        "id": "ZMqJSJmIB_04",
        "outputId": "6496ef11-df4a-46a8-be93-3a965cfe42b7"
      },
      "execution_count": null,
      "outputs": [
        {
          "output_type": "stream",
          "name": "stdout",
          "text": [
            "grados c: 3\n",
            "F:  37.4\n"
          ]
        }
      ]
    },
    {
      "cell_type": "code",
      "source": [
        "#Farenheit a Celcius\n",
        "def farenheithCelcius(f):\n",
        "  return (f - 32) * 5/9"
      ],
      "metadata": {
        "id": "cVuFAcK7CEXB"
      },
      "execution_count": null,
      "outputs": []
    },
    {
      "cell_type": "code",
      "source": [
        "f = float (input(\"Grados F: \"))\n",
        "c = farenheithCelcius(f)\n",
        "print(\"C: \", c)"
      ],
      "metadata": {
        "colab": {
          "base_uri": "https://localhost:8080/"
        },
        "id": "1X8aOZvMCITp",
        "outputId": "75f9fa65-e07c-4b6f-a7de-e752d6ad8794"
      },
      "execution_count": null,
      "outputs": [
        {
          "output_type": "stream",
          "name": "stdout",
          "text": [
            "Grados F: 89\n",
            "C:  31.666666666666668\n"
          ]
        }
      ]
    },
    {
      "cell_type": "code",
      "source": [
        "#Celcius a Kelvin\n",
        "def celciusKelvin (c):\n",
        " return (c + 273.15)"
      ],
      "metadata": {
        "id": "thwTY60ICMLn"
      },
      "execution_count": null,
      "outputs": []
    },
    {
      "cell_type": "code",
      "source": [
        "c = float (input(\"Grados C: \"))\n",
        "k = celciusKelvin(c)\n",
        "print(\"K: \", k)"
      ],
      "metadata": {
        "colab": {
          "base_uri": "https://localhost:8080/"
        },
        "id": "btQyjswxCQdJ",
        "outputId": "a416615f-efc5-4eef-a81a-3c95100ac911"
      },
      "execution_count": null,
      "outputs": [
        {
          "output_type": "stream",
          "name": "stdout",
          "text": [
            "Grados C: 0\n",
            "K:  273.15\n"
          ]
        }
      ]
    },
    {
      "cell_type": "code",
      "source": [
        "#Hacer un ejercicio en python haciendo de uso de funciones de usuario, que calcule el sueldo de un empleado, segun el numero de horas trabajadas y el valor por hora\n",
        "def sueldo(numHoras, ValorXhoras):\n",
        "  sueldo = numHoras * ValorXhoras * 30\n",
        "  return sueldo\n"
      ],
      "metadata": {
        "id": "RD7WjEOyCSqn"
      },
      "execution_count": null,
      "outputs": []
    },
    {
      "cell_type": "code",
      "source": [
        "numHoras = float(input(\"Hrs: \"))\n",
        "Valorxhoras = float(input(\"valor por hora: \"))\n",
        "sueldo = sueldo(numHoras, Valorxhoras)\n",
        "print(\"Sueldo: \", sueldo)"
      ],
      "metadata": {
        "colab": {
          "base_uri": "https://localhost:8080/"
        },
        "id": "vpnr_CY1CYfD",
        "outputId": "11b5cad0-2f99-4c73-e801-9ff02c046694"
      },
      "execution_count": null,
      "outputs": [
        {
          "output_type": "stream",
          "name": "stdout",
          "text": [
            "Hrs: 14\n",
            "valor por hora: 14\n",
            "Sueldo:  5880.0\n"
          ]
        }
      ]
    },
    {
      "cell_type": "code",
      "source": [
        "#Elevar un numero a exponente\n",
        "def exponenciacion(b,e):\n",
        "  return b**e\n",
        "\n",
        "b = float(input(\"Base: \"))\n",
        "e = float(input(\"Exponente: \"))\n",
        "\n",
        "resultado = exponenciacion(b,e)\n",
        "\n",
        "print(f\"{b} elevado a {e} es igual a {resultado}\")"
      ],
      "metadata": {
        "colab": {
          "base_uri": "https://localhost:8080/"
        },
        "id": "qVsvA-y6CbEx",
        "outputId": "75593ced-f7b1-4019-8347-71843def190d"
      },
      "execution_count": null,
      "outputs": [
        {
          "output_type": "stream",
          "name": "stdout",
          "text": [
            "Base: 5\n",
            "Exponente: 2\n",
            "5.0 elevado a 2.0 es igual a 25.0\n"
          ]
        }
      ]
    },
    {
      "cell_type": "markdown",
      "source": [
        "FUNCIONES **ANONIMAS**"
      ],
      "metadata": {
        "id": "gcXV9mKUCwgc"
      }
    },
    {
      "cell_type": "code",
      "source": [
        "def suma(a,b):\n",
        "  return a+b"
      ],
      "metadata": {
        "id": "HsmadDyhCzoX"
      },
      "execution_count": null,
      "outputs": []
    },
    {
      "cell_type": "code",
      "source": [
        "a = float(input(\"Num1: \"))\n",
        "b = float(input(\"Num2: \"))\n",
        "\n",
        "suma = suma(a,b)\n",
        "print(\"La suma es: \", suma)"
      ],
      "metadata": {
        "colab": {
          "base_uri": "https://localhost:8080/"
        },
        "id": "o7JK_j3qC3CW",
        "outputId": "2365e14c-dbbe-4f7a-f1b7-c70c0e1d9a36"
      },
      "execution_count": null,
      "outputs": [
        {
          "output_type": "stream",
          "name": "stdout",
          "text": [
            "Num1: 4\n",
            "Num2: 5\n",
            "La suma es:  9.0\n"
          ]
        }
      ]
    },
    {
      "cell_type": "code",
      "source": [
        "a = float(input(\"Num1: \"))\n",
        "b = float(input(\"Num2: \"))\n",
        "\n",
        "sum = lambda a,b: a+b\n",
        "print( \"La suma de \", a, \" mas b \", b, \" es igual \", sum(a,b) )"
      ],
      "metadata": {
        "colab": {
          "base_uri": "https://localhost:8080/"
        },
        "id": "sXIW-2HCVvLL",
        "outputId": "478cc76c-e571-47ec-b049-c770ea26e6f7"
      },
      "execution_count": null,
      "outputs": [
        {
          "output_type": "stream",
          "name": "stdout",
          "text": [
            "Num1: 4\n",
            "Num2: 4\n",
            "La suma de  4.0  mas b  4.0  es igual  8.0\n"
          ]
        }
      ]
    },
    {
      "cell_type": "markdown",
      "source": [
        "FUNCIONES PRECONSTRUIDAS"
      ],
      "metadata": {
        "id": "ghkE8QVaV0kO"
      }
    },
    {
      "cell_type": "code",
      "source": [
        "def extraerPrimeraLetra(dia):\n",
        "  return dia[0]"
      ],
      "metadata": {
        "id": "1s7rYSv1V11f"
      },
      "execution_count": null,
      "outputs": []
    },
    {
      "cell_type": "code",
      "source": [
        "#map\n",
        "semana = [\"Domingo\", \"Lunes\", \"Martes\", \"Miercoles\", \"Jueves\", \"Viernes\", \"Sabado\"]\n",
        "\n",
        "primeraLetraDia = map(lambda dia: dia[0], semana)\n",
        "print(list(primeraLetraDia))\n",
        "\n",
        "mayusSemana = map(lambda dia: dia.upper(), semana)\n",
        "print(list(mayusSemana))\n",
        "\n",
        "print( list(map(extraerPrimeraLetra, semana)) )"
      ],
      "metadata": {
        "colab": {
          "base_uri": "https://localhost:8080/"
        },
        "id": "LLHf1XGVV5N2",
        "outputId": "6dd02a30-314b-4b4a-975d-3df80c378c99"
      },
      "execution_count": null,
      "outputs": [
        {
          "output_type": "stream",
          "name": "stdout",
          "text": [
            "['D', 'L', 'M', 'M', 'J', 'V', 'S']\n",
            "['DOMINGO', 'LUNES', 'MARTES', 'MIERCOLES', 'JUEVES', 'VIERNES', 'SABADO']\n",
            "['D', 'L', 'M', 'M', 'J', 'V', 'S']\n"
          ]
        }
      ]
    },
    {
      "cell_type": "code",
      "source": [
        "numeros = [2,4,6,8,7,9]\n",
        "potencia = int(input(\"Potencia: \"))\n",
        "numeroPotencia = map(lambda num: num**potencia, numeros)\n",
        "\n",
        "print(list(numeroPotencia))"
      ],
      "metadata": {
        "colab": {
          "base_uri": "https://localhost:8080/"
        },
        "id": "SHxWpfNpV77V",
        "outputId": "29d26e10-b459-4139-80db-a3d951e20017"
      },
      "execution_count": null,
      "outputs": [
        {
          "output_type": "stream",
          "name": "stdout",
          "text": [
            "Potencia: 4\n",
            "[16, 256, 1296, 4096, 2401, 6561]\n"
          ]
        }
      ]
    },
    {
      "cell_type": "code",
      "source": [
        "ntabla  = int(input(\"Tabla:\"))\n",
        "numeros = [1,2,3,4,5,6,7,8,9,10]\n",
        "tabla = map(lambda num: num*ntabla, numeros)\n",
        "\n",
        "print(list(tabla))"
      ],
      "metadata": {
        "colab": {
          "base_uri": "https://localhost:8080/"
        },
        "id": "ry18Bq_cWAle",
        "outputId": "9eaff91c-1be1-4e3a-c41a-39fe207c3864"
      },
      "execution_count": null,
      "outputs": [
        {
          "output_type": "stream",
          "name": "stdout",
          "text": [
            "Tabla:4\n",
            "[4, 8, 12, 16, 20, 24, 28, 32, 36, 40]\n"
          ]
        }
      ]
    },
    {
      "cell_type": "code",
      "source": [
        "serie = [5,6,9,2,7,8]\n",
        "pares = filter(lambda num: num%2==0, serie) #% ===> a modulo, obtener el residuo.\n",
        "\n",
        "print(list(pares))\n",
        "\n",
        "impares = filter(lambda num: num%2!=0, serie)\n",
        "\n",
        "print(list(impares))"
      ],
      "metadata": {
        "colab": {
          "base_uri": "https://localhost:8080/"
        },
        "id": "OZw1FJ4HWEMq",
        "outputId": "a6e575b2-c6ca-4014-be91-2c3576479042"
      },
      "execution_count": null,
      "outputs": [
        {
          "output_type": "stream",
          "name": "stdout",
          "text": [
            "[6, 2, 8]\n",
            "[5, 9, 7]\n"
          ]
        }
      ]
    },
    {
      "cell_type": "code",
      "source": [
        "serieUser = input(\"Serie: \") # \"5,2,8,1\" --> serie[0]=\"5\"; serie[1]=\"2\"; etc..\n",
        "serieUser = serieUser.split(\",\")\n",
        "\n",
        "pares = filter(lambda num: int(num)%2==0, serieUser)\n",
        "impares = filter(lambda num: int(num)%2!=0, serieUser)\n",
        "\n",
        "print(\"Pares: \",list(pares))\n",
        "print(\"Impares: \", list(impares))"
      ],
      "metadata": {
        "colab": {
          "base_uri": "https://localhost:8080/"
        },
        "id": "vqqnsbmJWFId",
        "outputId": "ca3d9d83-546d-44c1-fb65-efbca39ff95f"
      },
      "execution_count": null,
      "outputs": [
        {
          "output_type": "stream",
          "name": "stdout",
          "text": [
            "Serie: 1,2,3,4,5,6\n",
            "Pares:  ['2', '4', '6']\n",
            "Impares:  ['1', '3', '5']\n"
          ]
        }
      ]
    },
    {
      "cell_type": "markdown",
      "source": [
        "Hacer un ejercicio en python usando la funcion filter y lambda que de una seria de notas introducidas por el usuario, establezca cuantos pasan la materia (>6) y cuantos se quedan (<6)."
      ],
      "metadata": {
        "id": "VC4VzYG3WTP2"
      }
    },
    {
      "cell_type": "code",
      "source": [
        "#reduce\n",
        "from functools import reduce\n",
        "\n",
        "numeros = [5,4,9,6,8,2,3]\n",
        "suma = reduce(lambda num, acum: num+acum, numeros)\n",
        "\n",
        "sumaPares = reduce(lambda num, acum: num+acum, filter(lambda num: num%2==0, numeros))\n",
        "sumaPar = reduce(lambda acum, num: acum + num if num%2==0 else acum, numeros, 0)\n",
        "\n",
        "\n",
        "\n",
        "print(\"La suma es: \", suma)\n",
        "print(\"La suma de los pares es: \", sumaPares)\n",
        "print(\"Suma Pares: \", sumaPar)"
      ],
      "metadata": {
        "colab": {
          "base_uri": "https://localhost:8080/"
        },
        "id": "L52wvMGDWYWj",
        "outputId": "1f9b996f-3e0c-404e-83d2-c1011de0d352"
      },
      "execution_count": null,
      "outputs": [
        {
          "output_type": "stream",
          "name": "stdout",
          "text": [
            "La suma es:  37\n",
            "La suma de los pares es:  20\n",
            "Suma Pares:  20\n"
          ]
        }
      ]
    },
    {
      "cell_type": "markdown",
      "source": [
        "**TUPLAS**"
      ],
      "metadata": {
        "id": "okPykUlcfFOD"
      }
    },
    {
      "cell_type": "code",
      "source": [
        "tupla = (1,2,3,7,8,9)\n",
        "#tupla [0] = 5\n",
        "print (\"tupla: \", tupla,\"PRIMER ELEMENTO: \", tupla[0],\"EL NUMERO 5 PARECE \", tupla.count(1))\n",
        "print (\"Ultimo elemento: \", tupla[-1])\n",
        "print (\"rango: \", tupla[0:3])"
      ],
      "metadata": {
        "colab": {
          "base_uri": "https://localhost:8080/"
        },
        "id": "U-Uxs5_OesVL",
        "outputId": "9180b31b-f7f0-4196-e18f-2a86cadf7e2e"
      },
      "execution_count": null,
      "outputs": [
        {
          "output_type": "stream",
          "name": "stdout",
          "text": [
            "tupla:  (1, 2, 3, 7, 8, 9) PRIMER ELEMENTO:  1 EL NUMERO 5 PARECE  1\n",
            "Ultimo elemento:  9\n",
            "rango:  (1, 2, 3)\n"
          ]
        }
      ]
    },
    {
      "cell_type": "code",
      "source": [
        "\n",
        "import datetime\n",
        "fecha = datetime.date.today()\n",
        "\n",
        "Semana = (\"Domingo\", \"Lunes\", \"Martes\", \"Miercoles\", \"Jueves\", \"Viernes\", \"Sabado\")\n",
        "meses = (\"\", \"Enero\", \"Febrero\", \"Marzo\", \"Abril\", \"Mayo\", \"Junio\", \"Julio\", \"Agosto\", \"Septiembre\", \"Octubre\", \"Noviembre\", \"Diciembre\")\n",
        "dia = fecha.day\n",
        "mes = fecha.month\n",
        "year = fecha.year\n",
        "diaSemana = Semana[fecha.isoweekday()]\n",
        "\n",
        "print(diaSemana, dia, \"del\", meses[mes], \"del\", year)\n",
        "\n",
        "print(fecha)\n",
        "print(dia, mes, year)"
      ],
      "metadata": {
        "colab": {
          "base_uri": "https://localhost:8080/"
        },
        "id": "TsU0CQxpiCUs",
        "outputId": "7fab7141-d277-4e78-ff7c-633888c34d9e"
      },
      "execution_count": null,
      "outputs": [
        {
          "output_type": "stream",
          "name": "stdout",
          "text": [
            "Martes 12 del Agosto del 2025\n",
            "2025-08-12\n",
            "12 8 2025\n"
          ]
        }
      ]
    },
    {
      "cell_type": "markdown",
      "source": [
        "**LISTAS**"
      ],
      "metadata": {
        "id": "yIzjWRTil8So"
      }
    },
    {
      "cell_type": "code",
      "source": [
        "lista = [5,8,9,4, \"Progra III\", True, [4,8,9, [8,9,4]]]\n",
        "print(lista)"
      ],
      "metadata": {
        "colab": {
          "base_uri": "https://localhost:8080/"
        },
        "id": "gfKGXe2kl-4R",
        "outputId": "9016fea8-a4bc-4a49-dc47-f41e4d88b712"
      },
      "execution_count": null,
      "outputs": [
        {
          "output_type": "stream",
          "name": "stdout",
          "text": [
            "[5, 8, 9, 4, 'Progra III', True, [4, 8, 9, [8, 9, 4]]]\n"
          ]
        }
      ]
    },
    {
      "cell_type": "code",
      "source": [
        "def calcularPromedio(acum, nota):\n",
        "  if nota[0] == \"Parcial\":\n",
        "    return acum + nota[1] * 0.4\n",
        "  else:\n",
        "    return acum + nota[1] * 0.3"
      ],
      "metadata": {
        "id": "y6u_RdTDnZmd"
      },
      "execution_count": null,
      "outputs": []
    },
    {
      "cell_type": "code",
      "source": [
        "1 #Hacer un ejercicio en pyton que obtenga la nota final de PROGRA III del computo 1, haciendo uso de las listas y de las funciones\n",
        "notas = [[\"lab1\", 8], [\"lab2\", 9], [\"Parcial\", 10]]\n",
        "prom = reduce (calcularPromedio, notas, 0)\n",
        "print(\"Nota Final: \", prom)\n"
      ],
      "metadata": {
        "colab": {
          "base_uri": "https://localhost:8080/"
        },
        "id": "2zvExBsYnCMN",
        "outputId": "602bbd8c-4e3f-430f-bf41-c916e3ad5c83"
      },
      "execution_count": null,
      "outputs": [
        {
          "output_type": "stream",
          "name": "stdout",
          "text": [
            "Nota Final:  9.1\n"
          ]
        }
      ]
    },
    {
      "cell_type": "markdown",
      "source": [],
      "metadata": {
        "id": "U9oeSXCaShnz"
      }
    },
    {
      "cell_type": "code",
      "source": [
        "import sys\n",
        "\n",
        "# 1. Cálculo de sueldo neto y deducciones\n",
        "# =========================================================\n",
        "def calcular_sueldo_neto():\n",
        "    \"\"\"\n",
        "    Pide al usuario un sueldo bruto y calcula las deducciones y el sueldo neto.\n",
        "    \"\"\"\n",
        "    print(\"\\n--- 1. Cálculo de Sueldo y Deducciones ---\")\n",
        "    try:\n",
        "        sueldo_bruto = float(input(\"Ingrese el sueldo bruto: \"))\n",
        "    except ValueError:\n",
        "        print(\"Entrada inválida. Por favor, ingrese un número.\")\n",
        "        return\n",
        "\n",
        "    # Tasas de deducción\n",
        "    tasa_isss = 0.03\n",
        "    tasa_afp = 0.0625\n",
        "\n",
        "    # Cálculo de las deducciones\n",
        "    descuento_isss = sueldo_bruto * tasa_isss\n",
        "    descuento_afp = sueldo_bruto * tasa_afp\n",
        "\n",
        "    # Cálculo del ISR (simplificado para el ejemplo)\n",
        "    if sueldo_bruto > 500:\n",
        "        descuento_isr = (sueldo_bruto - 500) * 0.10\n",
        "    else:\n",
        "        descuento_isr = 0.00\n",
        "\n",
        "    # Suma de todas las deducciones\n",
        "    total_deducciones = descuento_isss + descuento_afp + descuento_isr\n",
        "    sueldo_neto = sueldo_bruto - total_deducciones\n",
        "\n",
        "    # Impresión de los resultados\n",
        "    print(f\"\\nSueldo Bruto: ${sueldo_bruto:,.2f}\")\n",
        "    print(\"--- Deducciones ---\")\n",
        "    print(f\"  Descuento ISSS (3%): ${descuento_isss:,.2f}\")\n",
        "    print(f\"  Descuento AFP (6.25%): ${descuento_afp:,.2f}\")\n",
        "    print(f\"  Descuento ISR: ${descuento_isr:,.2f}\")\n",
        "    print(\"--------------------\")\n",
        "    print(f\"Total Deducciones: ${total_deducciones:,.2f}\")\n",
        "    print(f\"Sueldo Neto: ${sueldo_neto:,.2f}\")\n",
        "\n",
        "# =========================================================\n",
        "# 2. Cálculo de tarifa por metros de agua\n",
        "# =========================================================\n",
        "def calcular_tarifa_agua():\n",
        "    \"\"\"\n",
        "    Pide al usuario el consumo de metros de agua y calcula el costo.\n",
        "    \"\"\"\n",
        "    print(\"\\n--- 2. Tarifa por Consumo de Agua ---\")\n",
        "    try:\n",
        "        metros_consumidos = int(input(\"Ingrese el número de metros de agua consumidos: \"))\n",
        "    except ValueError:\n",
        "        print(\"Entrada inválida. Por favor, ingrese un número entero.\")\n",
        "        return\n",
        "\n",
        "    costo_total = 0\n",
        "    if metros_consumidos <= 18:\n",
        "        costo_total = 6.00\n",
        "    elif 19 <= metros_consumidos <= 28:\n",
        "        exceso = metros_consumidos - 18\n",
        "        costo_total = 6.00 + (exceso * 0.45)\n",
        "    else:  # metros_consumidos >= 29\n",
        "        costo_primeros_18 = 6.00\n",
        "        costo_siguientes_10 = 10 * 0.45\n",
        "        costo_hasta_28 = costo_primeros_18 + costo_siguientes_10\n",
        "        exceso = metros_consumidos - 28\n",
        "        costo_exceso = exceso * 0.65\n",
        "        costo_total = costo_hasta_28 + costo_exceso\n",
        "\n",
        "    print(f\"\\nConsumo de agua: {metros_consumidos} metros\")\n",
        "    print(f\"Valor a pagar: ${costo_total:,.2f}\")\n",
        "\n",
        "# =========================================================\n",
        "# 3. Cálculo de meses acumulados\n",
        "# =========================================================\n",
        "def calcular_meses_acumulados():\n",
        "    \"\"\"\n",
        "    Pide al usuario el número de meses y calcula la suma acumulada.\n",
        "    \"\"\"\n",
        "    print(\"\\n--- 3. Meses Acumulados ---\")\n",
        "    try:\n",
        "        n_meses = int(input(\"Ingrese el número de meses a acumular: \"))\n",
        "        if n_meses < 0:\n",
        "            print(\"Por favor, ingrese un número de meses positivo.\")\n",
        "            return\n",
        "    except ValueError:\n",
        "        print(\"Entrada inválida. Por favor, ingrese un número entero.\")\n",
        "        return\n",
        "\n",
        "    acumulado_formula = (n_meses * (n_meses + 1)) // 2\n",
        "\n",
        "    print(f\"\\nNúmero de meses: {n_meses}\")\n",
        "    print(f\"Acumulado total: {acumulado_formula}\")\n",
        "\n",
        "    print(\"\\n--- Detalle de la tabla de acumulados ---\")\n",
        "    acumulado = 0\n",
        "    limite_impresion = 15\n",
        "    for mes in range(1, min(n_meses + 1, limite_impresion + 1)):\n",
        "        acumulado += mes\n",
        "        print(f\"Mes {mes}: {mes} + acumulado = {acumulado}\")\n",
        "    if n_meses > limite_impresion:\n",
        "        print(\"...\")\n",
        "        print(f\"Acumulado para el mes {n_meses}: {acumulado_formula}\")\n",
        "\n",
        "# =========================================================\n",
        "# 4. Sistema de Conversores (Basado en tu código)\n",
        "# =========================================================\n",
        "def conversor_universal(nombre_tipo, tasas):\n",
        "    \"\"\"\n",
        "    Función genérica para manejar cualquier tipo de conversión.\n",
        "    Se basa en una unidad base (la que tiene tasa 1).\n",
        "    \"\"\"\n",
        "    print(f\"\\n** Conversor de {nombre_tipo.capitalize()} **\")\n",
        "\n",
        "    unidades_disponibles = list(tasas.keys())\n",
        "\n",
        "    print(\"Unidades disponibles:\")\n",
        "    for i, unidad in enumerate(unidades_disponibles, 1):\n",
        "        print(f\"{i}. {unidad}\")\n",
        "\n",
        "    try:\n",
        "        opcion_origen = int(input(\"Selecciona el número de la unidad de origen: \")) - 1\n",
        "        opcion_destino = int(input(\"Selecciona el número de la unidad de destino: \")) - 1\n",
        "\n",
        "        if 0 <= opcion_origen < len(unidades_disponibles) and 0 <= opcion_destino < len(unidades_disponibles):\n",
        "            unidad_origen = unidades_disponibles[opcion_origen]\n",
        "            unidad_destino = unidades_disponibles[opcion_destino]\n",
        "\n",
        "            valor = float(input(f\"Ingresa el valor en {unidad_origen}: \"))\n",
        "\n",
        "            # Convierte el valor de origen a la unidad base (tasa 1)\n",
        "            # Y luego de la unidad base a la unidad de destino.\n",
        "            valor_en_base = valor / tasas[unidad_origen]\n",
        "            resultado = valor_en_base * tasas[unidad_destino]\n",
        "\n",
        "            print(f\"{valor:,.2f} {unidad_origen} equivale a {resultado:,.2f} {unidad_destino}\")\n",
        "        else:\n",
        "            print(\"Opción no válida. Inténtalo de nuevo.\")\n",
        "    except (ValueError, IndexError):\n",
        "        print(\"Entrada no válida. Por favor, ingresa un número.\")\n",
        "\n",
        "def Cmonedas():\n",
        "    tasas = {\n",
        "        \"Dólar\": 1, \"Euro\": 0.92, \"Libra Esterlina\": 0.79, \"Yen Japonés\": 140.00,\n",
        "        \"Dólar Canadiense\": 1.35, \"Peso Mexicano\": 17.15, \"Peso Chileno\": 950.00,\n",
        "        \"Peso Argentino\": 870.00, \"Peso Colombiano\": 4000.00, \"Real Brasileño\": 5.20\n",
        "    }\n",
        "    conversor_universal(\"monedas\", tasas)\n",
        "\n",
        "def Cmasa():\n",
        "    tasas = {\n",
        "        \"Kilogramo\": 1, \"Gramo\": 1000, \"Miligramo\": 1000000, \"Libra\": 2.20462, \"Onza\": 35.274,\n",
        "        \"Tonelada\": 0.001, \"Stone\": 0.157473, \"Quilate\": 5000, \"Dram\": 564.383, \"Grain\": 15432.4\n",
        "    }\n",
        "    conversor_universal(\"masa\", tasas)\n",
        "\n",
        "def Cvolumen():\n",
        "    tasas = {\n",
        "        \"Litro\": 1, \"Mililitro\": 1000, \"Galón\": 0.264172, \"Cuarto\": 1.05669, \"Pinta\": 2.11338,\n",
        "        \"Taza\": 4.22675, \"Metro Cúbico\": 0.001, \"Pie Cúbico\": 0.0353147, \"Pulgada Cúbica\": 61.0237,\n",
        "        \"Onza Fluida\": 33.814\n",
        "    }\n",
        "    conversor_universal(\"volumen\", tasas)\n",
        "\n",
        "def Clongitud():\n",
        "    tasas = {\n",
        "        \"Metro\": 1, \"Kilómetro\": 0.001, \"Centímetro\": 100, \"Milímetro\": 1000,\n",
        "        \"Yarda\": 1.09361, \"Pie\": 3.28084, \"Pulgada\": 39.3701, \"Milla\": 0.000621371\n",
        "    }\n",
        "    conversor_universal(\"longitud\", tasas)\n",
        "\n",
        "def Calmacenamiento():\n",
        "    tasas = {\n",
        "        \"Byte\": 1, \"Kilobyte\": 0.0009765625, \"Megabyte\": 9.53674e-07, \"Gigabyte\": 9.31323e-10,\n",
        "        \"Terabyte\": 9.09495e-13, \"Petabyte\": 8.88178e-16, \"Exabyte\": 8.67362e-19,\n",
        "        \"Zettabyte\": 8.47033e-22, \"Yottabyte\": 8.27181e-25, \"Brontobyte\": 8.07794e-28\n",
        "    }\n",
        "    conversor_universal(\"almacenamiento\", tasas)\n",
        "\n",
        "def Ctiempo():\n",
        "    tasas = {\n",
        "        \"Segundo\": 1, \"Minuto\": 0.0166667, \"Hora\": 0.000277778, \"Día\": 1.15741e-05,\n",
        "        \"Semana\": 1.65344e-06, \"Mes\": 3.80517e-07, \"Año\": 3.17098e-08,\n",
        "        \"Década\": 3.17098e-09, \"Siglo\": 3.17098e-10, \"Milenio\": 3.17098e-11\n",
        "    }\n",
        "    conversor_universal(\"tiempo\", tasas)\n",
        "\n",
        "def Carea():\n",
        "    tasas = {\n",
        "        \"Metro Cuadrado\": 1, \"Kilómetro Cuadrado\": 0.000001, \"Hectárea\": 0.0001, \"Pie Cuadrado\": 10.7639,\n",
        "        \"Centímetro Cuadrado\": 10000, \"Milla Cuadrada\": 3.86102e-07, \"Acre\": 0.000247105,\n",
        "        \"Yarda Cuadrada\": 1.19599, \"Manzana\": 0.00069874, \"Tarea\": 0.0022857\n",
        "    }\n",
        "    conversor_universal(\"area\", tasas)\n",
        "\n",
        "def Cenergia():\n",
        "    tasas = {\n",
        "        \"Joule\": 1,\n",
        "        \"Kilojoule\": 0.001,\n",
        "        \"Caloría\": 0.239006,\n",
        "        \"Kilocaloría\": 0.000239006,\n",
        "        \"Vatio-hora\": 0.000277778,\n",
        "        \"Kilovatio-hora\": 2.77778e-7,\n",
        "        \"Electronvoltio\": 6.242e+18,\n",
        "        \"BTU\": 0.000947817,\n",
        "        \"Termia\": 9.47817e-9,\n",
        "        \"Pie-libra\": 0.737562\n",
        "    }\n",
        "    conversor_universal(\"energía\", tasas)\n",
        "\n",
        "def menu_conversores():\n",
        "    \"\"\"\n",
        "    Menú de selección para los conversores.\n",
        "    \"\"\"\n",
        "    while True:\n",
        "        print(\"\\n** Menú de Conversores **\")\n",
        "        print(\"1. Conversión de monedas\")\n",
        "        print(\"2. Conversión de masa\")\n",
        "        print(\"3. Conversión de volumen\")\n",
        "        print(\"4. Conversión de longitud\")\n",
        "        print(\"5. Conversión de almacenamiento\")\n",
        "        print(\"6. Conversión de tiempo\")\n",
        "        print(\"7. Conversión de área\")\n",
        "        print(\"8. Conversión de energía\")  # Nueva opción\n",
        "        print(\"9. Volver al menú principal\")  # Cambiado de 8 a 9\n",
        "\n",
        "        opcion = input(\"opcion: \")\n",
        "\n",
        "        if opcion == \"1\":\n",
        "            Cmonedas()\n",
        "        elif opcion == \"2\":\n",
        "            Cmasa()\n",
        "        elif opcion == \"3\":\n",
        "            Cvolumen()\n",
        "        elif opcion == \"4\":\n",
        "            Clongitud()\n",
        "        elif opcion == \"5\":\n",
        "            Calmacenamiento()\n",
        "        elif opcion == \"6\":\n",
        "            Ctiempo()\n",
        "        elif opcion == \"7\":\n",
        "            Carea()\n",
        "        elif opcion == \"8\":  # Nueva opción\n",
        "            Cenergia()\n",
        "        elif opcion == \"9\":  # Cambiado de 8 a 9\n",
        "            return\n",
        "        else:\n",
        "            print(\"Opción no válida. Inténtalo de nuevo.\")\n",
        "\n",
        "def menu_principal():\n",
        "    \"\"\"\n",
        "    Menú principal del programa.\n",
        "    \"\"\"\n",
        "    while True:\n",
        "        print(\"\\n=============================================\")\n",
        "        print(\"         Menú de Ejercicios en Python        \")\n",
        "        print(\"=============================================\")\n",
        "        print(\"1. Calcular sueldo neto y deducciones\")\n",
        "        print(\"2. Calcular tarifa por consumo de agua\")\n",
        "        print(\"3. Calcular meses acumulados\")\n",
        "        print(\"4. Usar el sistema de conversores\")\n",
        "        print(\"5. Salir del programa\")\n",
        "        print(\"=============================================\")\n",
        "\n",
        "        opcion = input(\"Por favor, seleccione una opción (1-5): \")\n",
        "\n",
        "        if opcion == \"1\":\n",
        "            calcular_sueldo_neto()\n",
        "        elif opcion == \"2\":\n",
        "            calcular_tarifa_agua()\n",
        "        elif opcion == \"3\":\n",
        "            calcular_meses_acumulados()\n",
        "        elif opcion == \"4\":\n",
        "            menu_conversores()\n",
        "        elif opcion == \"5\":\n",
        "            print(\"Saliendo del programa...\")\n",
        "            sys.exit()\n",
        "        else:\n",
        "            print(\"Opción no válida. Por favor, ingrese un número del 1 al 5.\")\n",
        "\n",
        "# =========================================================\n",
        "# Ejecución del programa\n",
        "# =========================================================\n",
        "if __name__ == \"__main__\":\n",
        "    menu_principal()"
      ],
      "metadata": {
        "id": "7eZSU7FBScHR",
        "outputId": "12142d2c-16c5-4ed8-9b34-acfbf7a0c151",
        "colab": {
          "base_uri": "https://localhost:8080/",
          "height": 332
        }
      },
      "execution_count": 3,
      "outputs": [
        {
          "output_type": "stream",
          "name": "stdout",
          "text": [
            "\n",
            "=============================================\n",
            "         Menú de Ejercicios en Python        \n",
            "=============================================\n",
            "1. Calcular sueldo neto y deducciones\n",
            "2. Calcular tarifa por consumo de agua\n",
            "3. Calcular meses acumulados\n",
            "4. Usar el sistema de conversores\n",
            "5. Salir del programa\n",
            "=============================================\n",
            "Por favor, seleccione una opción (1-5): 5\n",
            "Saliendo del programa...\n"
          ]
        },
        {
          "output_type": "error",
          "ename": "SystemExit",
          "evalue": "",
          "traceback": [
            "An exception has occurred, use %tb to see the full traceback.\n",
            "\u001b[0;31mSystemExit\u001b[0m\n"
          ]
        },
        {
          "output_type": "stream",
          "name": "stderr",
          "text": [
            "/usr/local/lib/python3.11/dist-packages/IPython/core/interactiveshell.py:3561: UserWarning: To exit: use 'exit', 'quit', or Ctrl-D.\n",
            "  warn(\"To exit: use 'exit', 'quit', or Ctrl-D.\", stacklevel=1)\n"
          ]
        }
      ]
    },
    {
      "cell_type": "markdown",
      "source": [
        "Calcular sueldo"
      ],
      "metadata": {
        "id": "q6OQgF2fQaLP"
      }
    },
    {
      "cell_type": "code",
      "source": [
        "def calcularSueldoNeto():\n",
        "    salario_nominal = float(input(\"Ingresa el salario nominal: \"))\n",
        "    tasa_isss = 0.03\n",
        "    tasa_afp = 0.0625\n",
        "    descuento_isss = salario_nominal * tasa_isss\n",
        "    descuento_afp = salario_nominal * tasa_afp\n",
        "    renta_neta = salario_nominal - (descuento_isss + descuento_afp)\n",
        "    descuento_isr = 0\n",
        "\n",
        "    if renta_neta <= 472.00:\n",
        "        descuento_isr = 0\n",
        "    elif renta_neta <= 895.24:\n",
        "        exceso = renta_neta - 472.00\n",
        "        descuento_isr = exceso * 0.10 + 17.67\n",
        "    elif renta_neta <= 2038.10:\n",
        "        exceso = renta_neta - 895.24\n",
        "        descuento_isr = exceso * 0.20 + 60.00\n",
        "    else:\n",
        "        exceso = renta_neta - 2038.10\n",
        "        descuento_isr = exceso * 0.30 + 288.57\n",
        "\n",
        "    total_deducciones = descuento_isss + descuento_afp + descuento_isr\n",
        "    sueldo_neto = salario_nominal - total_deducciones\n",
        "\n",
        "    print(\"Salario Nominal:\", salario_nominal)\n",
        "    print(\"Descuento ISSS:\", descuento_isss)\n",
        "    print(\"Descuento AFP:\", descuento_afp)\n",
        "    print(\"Descuento ISR:\", descuento_isr)\n",
        "    print(\"Total de deducciones:\", total_deducciones)\n",
        "    print(\"Sueldo Neto:\", sueldo_neto)\n",
        "\n",
        "calcularSueldoNeto()"
      ],
      "metadata": {
        "id": "m2WpHp5wQcHm",
        "outputId": "15ca6552-0fb2-43b7-b302-1a328b6ef969",
        "colab": {
          "base_uri": "https://localhost:8080/"
        }
      },
      "execution_count": 4,
      "outputs": [
        {
          "output_type": "stream",
          "name": "stdout",
          "text": [
            "Ingresa el salario nominal: 100\n",
            "Salario Nominal: 100.0\n",
            "Descuento ISSS: 3.0\n",
            "Descuento AFP: 6.25\n",
            "Descuento ISR: 0\n",
            "Total de deducciones: 9.25\n",
            "Sueldo Neto: 90.75\n"
          ]
        }
      ]
    },
    {
      "cell_type": "markdown",
      "source": [
        "Tarifa de agua"
      ],
      "metadata": {
        "id": "kCzqxZrtRYCr"
      }
    },
    {
      "cell_type": "code",
      "source": [
        "def calcularTarifaAgua():\n",
        "    metros_consumidos = float(input(\"¿Cuántos metros de agua consumiste? \"))\n",
        "    costo_total = 0\n",
        "\n",
        "    if metros_consumidos <= 18:\n",
        "        costo_total = 6.00\n",
        "    elif metros_consumidos <= 28:\n",
        "        exceso = metros_consumidos - 18\n",
        "        costo_total = 6.00 + (exceso * 0.45)\n",
        "    else:\n",
        "        costo_primeros_18 = 6.00\n",
        "        costo_siguientes_10 = 10 * 0.45\n",
        "        exceso = metros_consumidos - 28\n",
        "        costo_exceso = exceso * 0.65\n",
        "        costo_total = costo_primeros_18 + costo_siguientes_10 + costo_exceso\n",
        "\n",
        "    print(\"El costo total a pagar es: $\", costo_total)\n",
        "\n",
        "calcularTarifaAgua()"
      ],
      "metadata": {
        "id": "GT7vt0EHRbJN",
        "outputId": "1e16cf7e-79da-4afe-a91d-f5330c4f259e",
        "colab": {
          "base_uri": "https://localhost:8080/"
        }
      },
      "execution_count": 7,
      "outputs": [
        {
          "output_type": "stream",
          "name": "stdout",
          "text": [
            "¿Cuántos metros de agua consumiste? 80\n",
            "El costo total a pagar es: $ 44.300000000000004\n"
          ]
        }
      ]
    },
    {
      "cell_type": "markdown",
      "source": [
        "Acumulado de meses"
      ],
      "metadata": {
        "id": "lMLdRTn7Rhnz"
      }
    },
    {
      "cell_type": "code",
      "source": [
        "def calcularMesesAcumulados():\n",
        "    meses = int(input(\"Ingresa el número de meses a acumular: \"))\n",
        "\n",
        "    acumulado = 0\n",
        "\n",
        "    for mes in range(1, meses + 1):\n",
        "        acumulado = acumulado + mes\n",
        "\n",
        "    print(\"El acumulado de\", meses, \"meses es:\", acumulado)\n",
        "\n",
        "calcularMesesAcumulados()"
      ],
      "metadata": {
        "id": "1eW5bB5SRuA5",
        "outputId": "ca4a0e66-2d4b-489d-dc69-005e137d8d82",
        "colab": {
          "base_uri": "https://localhost:8080/"
        }
      },
      "execution_count": 14,
      "outputs": [
        {
          "output_type": "stream",
          "name": "stdout",
          "text": [
            "Ingresa el número de meses a acumular: 12\n",
            "El acumulado de 12 meses es: 78\n"
          ]
        }
      ]
    },
    {
      "cell_type": "markdown",
      "source": [
        "Calcular Unidades"
      ],
      "metadata": {
        "id": "wNt6-kT9SN_l"
      }
    },
    {
      "cell_type": "code",
      "source": [
        "def conversor_universal(nombre_tipo, tasas):\n",
        "    print(f\"\\n** Conversor de {nombre_tipo.capitalize()} **\")\n",
        "\n",
        "    unidades_disponibles = list(tasas.keys())\n",
        "\n",
        "    print(\"Unidades disponibles:\")\n",
        "    for i, unidad in enumerate(unidades_disponibles, 1):\n",
        "        print(f\"{i}. {unidad}\")\n",
        "\n",
        "    try:\n",
        "        opcion_origen = int(input(\"Selecciona la unidad de origen: \")) - 1\n",
        "        opcion_destino = int(input(\"Selecciona la unidad de destino: \")) - 1\n",
        "\n",
        "        if 0 <= opcion_origen < len(unidades_disponibles) and 0 <= opcion_destino < len(unidades_disponibles):\n",
        "            unidad_origen = unidades_disponibles[opcion_origen]\n",
        "            unidad_destino = unidades_disponibles[opcion_destino]\n",
        "\n",
        "            valor = float(input(f\"Ingresa el valor en {unidad_origen}: \"))\n",
        "\n",
        "            valor_en_base = valor / tasas[unidad_origen]\n",
        "            resultado = valor_en_base * tasas[unidad_destino]\n",
        "\n",
        "            print(f\"{valor} {unidad_origen} equivale a {resultado} {unidad_destino}\")\n",
        "        else:\n",
        "            print(\"Opción no válida. Inténtalo de nuevo.\")\n",
        "    except (ValueError, IndexError):\n",
        "        print(\"Entrada no válida. Por favor, ingresa un número.\")\n",
        "\n",
        "def Cmonedas():\n",
        "    tasas = {\n",
        "        \"Dólar\": 1, \"Euro\": 0.92, \"Libra Esterlina\": 0.79, \"Yen Japonés\": 140.00,\n",
        "        \"Dólar Canadiense\": 1.35, \"Peso Mexicano\": 17.15, \"Peso Chileno\": 950.00,\n",
        "        \"Peso Argentino\": 870.00, \"Peso Colombiano\": 4000.00, \"Real Brasileño\": 5.20\n",
        "    }\n",
        "    conversor_universal(\"monedas\", tasas)\n",
        "\n",
        "def Cmasa():\n",
        "    tasas = {\n",
        "        \"Kilogramo\": 1, \"Gramo\": 1000, \"Miligramo\": 1000000, \"Libra\": 2.20462, \"Onza\": 35.274,\n",
        "        \"Tonelada\": 0.001, \"Stone\": 0.157473, \"Quilate\": 5000, \"Dram\": 564.383, \"Grain\": 15432.4\n",
        "    }\n",
        "    conversor_universal(\"masa\", tasas)\n",
        "\n",
        "def Cvolumen():\n",
        "    tasas = {\n",
        "        \"Litro\": 1, \"Mililitro\": 1000, \"Galón\": 0.264172, \"Cuarto\": 1.05669, \"Pinta\": 2.11338,\n",
        "        \"Taza\": 4.22675, \"Metro Cúbico\": 0.001, \"Pie Cúbico\": 0.0353147, \"Pulgada Cúbica\": 61.0237,\n",
        "        \"Onza Fluida\": 33.814\n",
        "    }\n",
        "    conversor_universal(\"volumen\", tasas)\n",
        "\n",
        "def Clongitud():\n",
        "    tasas = {\n",
        "        \"Metro\": 1, \"Kilómetro\": 0.001, \"Centímetro\": 100, \"Milímetro\": 1000,\n",
        "        \"Yarda\": 1.09361, \"Pie\": 3.28084, \"Pulgada\": 39.3701, \"Milla\": 0.000621371\n",
        "    }\n",
        "    conversor_universal(\"longitud\", tasas)\n",
        "\n",
        "def Calmacenamiento():\n",
        "    tasas = {\n",
        "        \"Byte\": 1, \"Kilobyte\": 0.0009765625, \"Megabyte\": 9.53674e-07, \"Gigabyte\": 9.31323e-10,\n",
        "        \"Terabyte\": 9.09495e-13, \"Petabyte\": 8.88178e-16, \"Exabyte\": 8.67362e-19,\n",
        "        \"Zettabyte\": 8.47033e-22, \"Yottabyte\": 8.27181e-25, \"Brontobyte\": 8.07794e-28\n",
        "    }\n",
        "    conversor_universal(\"almacenamiento\", tasas)\n",
        "\n",
        "def Ctiempo():\n",
        "    tasas = {\n",
        "        \"Segundo\": 1, \"Minuto\": 0.0166667, \"Hora\": 0.000277778, \"Día\": 1.15741e-05,\n",
        "        \"Semana\": 1.65344e-06, \"Mes\": 3.80517e-07, \"Año\": 3.17098e-08,\n",
        "        \"Década\": 3.17098e-09, \"Siglo\": 3.17098e-10, \"Milenio\": 3.17098e-11\n",
        "    }\n",
        "    conversor_universal(\"tiempo\", tasas)\n",
        "\n",
        "def Carea():\n",
        "    tasas = {\n",
        "        \"Metro Cuadrado\": 1, \"Kilómetro Cuadrado\": 0.000001, \"Hectárea\": 0.0001, \"Pie Cuadrado\": 10.7639,\n",
        "        \"Centímetro Cuadrado\": 10000, \"Milla Cuadrada\": 3.86102e-07, \"Acre\": 0.000247105,\n",
        "        \"Yarda Cuadrada\": 1.19599, \"Manzana\": 0.000142857, \"Tarea\": 0.0022857\n",
        "    }\n",
        "    conversor_universal(\"area\", tasas)\n",
        "\n",
        "def menu_principal():\n",
        "    while True:\n",
        "        print(\"\\n**Menu de opciones**\")\n",
        "        print(\"1. Conversión de monedas\")\n",
        "        print(\"2. Conversión de masas\")\n",
        "        print(\"3. Conversión de volumen\")\n",
        "        print(\"4. Conversión de longitud\")\n",
        "        print(\"5. Conversión de almacenamiento\")\n",
        "        print(\"6. Conversión de tiempo\")\n",
        "        print(\"7. Conversión de área\")\n",
        "        print(\"8. Salir\")\n",
        "\n",
        "        opcion = input(\"opcion: \")\n",
        "\n",
        "        if opcion == \"1\":\n",
        "            Cmonedas()\n",
        "        elif opcion == \"2\":\n",
        "            Cmasa()\n",
        "        elif opcion == \"3\":\n",
        "            Cvolumen()\n",
        "        elif opcion == \"4\":\n",
        "            Clongitud()\n",
        "        elif opcion == \"5\":\n",
        "            Calmacenamiento()\n",
        "        elif opcion == \"6\":\n",
        "            Ctiempo()\n",
        "        elif opcion == \"7\":\n",
        "            Carea()\n",
        "        elif opcion == \"8\":\n",
        "            print(\"Saliendo del programa...\")\n",
        "            break\n",
        "        else:\n",
        "            print(\"Opción no válida. Inténtalo de nuevo.\")\n",
        "\n",
        "menu_principal()"
      ],
      "metadata": {
        "id": "-ijcy1GHSPkf",
        "outputId": "e1673641-5650-48fa-d641-89aafb0f466d",
        "colab": {
          "base_uri": "https://localhost:8080/",
          "height": 981
        }
      },
      "execution_count": 15,
      "outputs": [
        {
          "output_type": "stream",
          "name": "stdout",
          "text": [
            "\n",
            "**Menu de opciones**\n",
            "1. Conversión de monedas\n",
            "2. Conversión de masas\n",
            "3. Conversión de volumen\n",
            "4. Conversión de longitud\n",
            "5. Conversión de almacenamiento\n",
            "6. Conversión de tiempo\n",
            "7. Conversión de área\n",
            "8. Salir\n",
            "opcion: 1\n",
            "\n",
            "** Conversor de Monedas **\n",
            "Unidades disponibles:\n",
            "1. Dólar\n",
            "2. Euro\n",
            "3. Libra Esterlina\n",
            "4. Yen Japonés\n",
            "5. Dólar Canadiense\n",
            "6. Peso Mexicano\n",
            "7. Peso Chileno\n",
            "8. Peso Argentino\n",
            "9. Peso Colombiano\n",
            "10. Real Brasileño\n",
            "Selecciona la unidad de origen: 5\n",
            "Selecciona la unidad de destino: 7\n",
            "Ingresa el valor en Dólar Canadiense: 20\n",
            "20.0 Dólar Canadiense equivale a 14074.074074074073 Peso Chileno\n",
            "\n",
            "**Menu de opciones**\n",
            "1. Conversión de monedas\n",
            "2. Conversión de masas\n",
            "3. Conversión de volumen\n",
            "4. Conversión de longitud\n",
            "5. Conversión de almacenamiento\n",
            "6. Conversión de tiempo\n",
            "7. Conversión de área\n",
            "8. Salir\n"
          ]
        },
        {
          "output_type": "error",
          "ename": "KeyboardInterrupt",
          "evalue": "Interrupted by user",
          "traceback": [
            "\u001b[0;31m---------------------------------------------------------------------------\u001b[0m",
            "\u001b[0;31mKeyboardInterrupt\u001b[0m                         Traceback (most recent call last)",
            "\u001b[0;32m/tmp/ipython-input-1349317659.py\u001b[0m in \u001b[0;36m<cell line: 0>\u001b[0;34m()\u001b[0m\n\u001b[1;32m    115\u001b[0m             \u001b[0mprint\u001b[0m\u001b[0;34m(\u001b[0m\u001b[0;34m\"Opción no válida. Inténtalo de nuevo.\"\u001b[0m\u001b[0;34m)\u001b[0m\u001b[0;34m\u001b[0m\u001b[0;34m\u001b[0m\u001b[0m\n\u001b[1;32m    116\u001b[0m \u001b[0;34m\u001b[0m\u001b[0m\n\u001b[0;32m--> 117\u001b[0;31m \u001b[0mmenu_principal\u001b[0m\u001b[0;34m(\u001b[0m\u001b[0;34m)\u001b[0m\u001b[0;34m\u001b[0m\u001b[0;34m\u001b[0m\u001b[0m\n\u001b[0m",
            "\u001b[0;32m/tmp/ipython-input-1349317659.py\u001b[0m in \u001b[0;36mmenu_principal\u001b[0;34m()\u001b[0m\n\u001b[1;32m     93\u001b[0m         \u001b[0mprint\u001b[0m\u001b[0;34m(\u001b[0m\u001b[0;34m\"8. Salir\"\u001b[0m\u001b[0;34m)\u001b[0m\u001b[0;34m\u001b[0m\u001b[0;34m\u001b[0m\u001b[0m\n\u001b[1;32m     94\u001b[0m \u001b[0;34m\u001b[0m\u001b[0m\n\u001b[0;32m---> 95\u001b[0;31m         \u001b[0mopcion\u001b[0m \u001b[0;34m=\u001b[0m \u001b[0minput\u001b[0m\u001b[0;34m(\u001b[0m\u001b[0;34m\"opcion: \"\u001b[0m\u001b[0;34m)\u001b[0m\u001b[0;34m\u001b[0m\u001b[0;34m\u001b[0m\u001b[0m\n\u001b[0m\u001b[1;32m     96\u001b[0m \u001b[0;34m\u001b[0m\u001b[0m\n\u001b[1;32m     97\u001b[0m         \u001b[0;32mif\u001b[0m \u001b[0mopcion\u001b[0m \u001b[0;34m==\u001b[0m \u001b[0;34m\"1\"\u001b[0m\u001b[0;34m:\u001b[0m\u001b[0;34m\u001b[0m\u001b[0;34m\u001b[0m\u001b[0m\n",
            "\u001b[0;32m/usr/local/lib/python3.11/dist-packages/ipykernel/kernelbase.py\u001b[0m in \u001b[0;36mraw_input\u001b[0;34m(self, prompt)\u001b[0m\n\u001b[1;32m   1175\u001b[0m                 \u001b[0;34m\"raw_input was called, but this frontend does not support input requests.\"\u001b[0m\u001b[0;34m\u001b[0m\u001b[0;34m\u001b[0m\u001b[0m\n\u001b[1;32m   1176\u001b[0m             )\n\u001b[0;32m-> 1177\u001b[0;31m         return self._input_request(\n\u001b[0m\u001b[1;32m   1178\u001b[0m             \u001b[0mstr\u001b[0m\u001b[0;34m(\u001b[0m\u001b[0mprompt\u001b[0m\u001b[0;34m)\u001b[0m\u001b[0;34m,\u001b[0m\u001b[0;34m\u001b[0m\u001b[0;34m\u001b[0m\u001b[0m\n\u001b[1;32m   1179\u001b[0m             \u001b[0mself\u001b[0m\u001b[0;34m.\u001b[0m\u001b[0m_parent_ident\u001b[0m\u001b[0;34m[\u001b[0m\u001b[0;34m\"shell\"\u001b[0m\u001b[0;34m]\u001b[0m\u001b[0;34m,\u001b[0m\u001b[0;34m\u001b[0m\u001b[0;34m\u001b[0m\u001b[0m\n",
            "\u001b[0;32m/usr/local/lib/python3.11/dist-packages/ipykernel/kernelbase.py\u001b[0m in \u001b[0;36m_input_request\u001b[0;34m(self, prompt, ident, parent, password)\u001b[0m\n\u001b[1;32m   1217\u001b[0m             \u001b[0;32mexcept\u001b[0m \u001b[0mKeyboardInterrupt\u001b[0m\u001b[0;34m:\u001b[0m\u001b[0;34m\u001b[0m\u001b[0;34m\u001b[0m\u001b[0m\n\u001b[1;32m   1218\u001b[0m                 \u001b[0;31m# re-raise KeyboardInterrupt, to truncate traceback\u001b[0m\u001b[0;34m\u001b[0m\u001b[0;34m\u001b[0m\u001b[0m\n\u001b[0;32m-> 1219\u001b[0;31m                 \u001b[0;32mraise\u001b[0m \u001b[0mKeyboardInterrupt\u001b[0m\u001b[0;34m(\u001b[0m\u001b[0;34m\"Interrupted by user\"\u001b[0m\u001b[0;34m)\u001b[0m \u001b[0;32mfrom\u001b[0m \u001b[0;32mNone\u001b[0m\u001b[0;34m\u001b[0m\u001b[0;34m\u001b[0m\u001b[0m\n\u001b[0m\u001b[1;32m   1220\u001b[0m             \u001b[0;32mexcept\u001b[0m \u001b[0mException\u001b[0m\u001b[0;34m:\u001b[0m\u001b[0;34m\u001b[0m\u001b[0;34m\u001b[0m\u001b[0m\n\u001b[1;32m   1221\u001b[0m                 \u001b[0mself\u001b[0m\u001b[0;34m.\u001b[0m\u001b[0mlog\u001b[0m\u001b[0;34m.\u001b[0m\u001b[0mwarning\u001b[0m\u001b[0;34m(\u001b[0m\u001b[0;34m\"Invalid Message:\"\u001b[0m\u001b[0;34m,\u001b[0m \u001b[0mexc_info\u001b[0m\u001b[0;34m=\u001b[0m\u001b[0;32mTrue\u001b[0m\u001b[0;34m)\u001b[0m\u001b[0;34m\u001b[0m\u001b[0;34m\u001b[0m\u001b[0m\n",
            "\u001b[0;31mKeyboardInterrupt\u001b[0m: Interrupted by user"
          ]
        }
      ]
    },
    {
      "cell_type": "markdown",
      "source": [
        "Conversor propio"
      ],
      "metadata": {
        "id": "pEeixTaASXiH"
      }
    },
    {
      "cell_type": "code",
      "source": [
        "def conversor_cajas():\n",
        "\n",
        "    unidades_por_caja = 25\n",
        "\n",
        "    print(\"Opciones de conversión:\")\n",
        "    print(\"1. Convertir de unidades a cajas\")\n",
        "    print(\"2. Convertir de cajas a unidades\")\n",
        "\n",
        "    opcion = input(\"Selecciona una opción (1 o 2): \")\n",
        "\n",
        "    if opcion == \"1\":\n",
        "\n",
        "        valor_unidades = float(input(\"Ingresa la cantidad de unidades: \"))\n",
        "        resultado = valor_unidades / unidades_por_caja\n",
        "        print(f\"{valor_unidades} unidades equivalen a {resultado} cajas.\")\n",
        "\n",
        "    elif opcion == \"2\":\n",
        "\n",
        "        valor_cajas = float(input(\"Ingresa la cantidad de cajas: \"))\n",
        "        resultado = valor_cajas * unidades_por_caja\n",
        "        print(f\"{valor_cajas} cajas equivalen a {resultado} unidades.\")\n",
        "\n",
        "    else:\n",
        "        print(\"Opción no válida. Por favor, selecciona 1 o 2.\")\n",
        "\n",
        "\n",
        "conversor_cajas()"
      ],
      "metadata": {
        "id": "iTSoX7g-SaSZ",
        "outputId": "e76180c2-49ee-478e-fc89-b08ffae21402",
        "colab": {
          "base_uri": "https://localhost:8080/"
        }
      },
      "execution_count": 16,
      "outputs": [
        {
          "output_type": "stream",
          "name": "stdout",
          "text": [
            "Opciones de conversión:\n",
            "1. Convertir de unidades a cajas\n",
            "2. Convertir de cajas a unidades\n",
            "Selecciona una opción (1 o 2): 2\n",
            "Ingresa la cantidad de cajas: 10\n",
            "10.0 cajas equivalen a 250.0 unidades.\n"
          ]
        }
      ]
    }
  ]
}