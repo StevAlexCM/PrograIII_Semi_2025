{
  "nbformat": 4,
  "nbformat_minor": 0,
  "metadata": {
    "colab": {
      "provenance": [],
      "include_colab_link": true
    },
    "kernelspec": {
      "name": "python3",
      "display_name": "Python 3"
    },
    "language_info": {
      "name": "python"
    }
  },
  "cells": [
    {
      "cell_type": "markdown",
      "metadata": {
        "id": "view-in-github",
        "colab_type": "text"
      },
      "source": [
        "<a href=\"https://colab.research.google.com/github/StevAlexCM/PrograIII_Semi_2025/blob/main/introduccion_python.ipynb\" target=\"_parent\"><img src=\"https://colab.research.google.com/assets/colab-badge.svg\" alt=\"Open In Colab\"/></a>"
      ]
    },
    {
      "cell_type": "code",
      "execution_count": null,
      "metadata": {
        "colab": {
          "base_uri": "https://localhost:8080/"
        },
        "id": "zubmubXbbwIw",
        "outputId": "363981f9-cedc-45d8-c155-0b6e2f698347"
      },
      "outputs": [
        {
          "output_type": "stream",
          "name": "stdout",
          "text": [
            "Hola Mundo\n",
            "Bienvenidos chicos a Programacion Computacional III\n"
          ]
        }
      ],
      "source": [
        "print(\"Hola Mundo\")\n",
        "print(\"Bienvenidos chicos a Programacion Computacional III\")"
      ]
    },
    {
      "cell_type": "code",
      "source": [
        "nombre = \"Steven Campos\"\n",
        "edad = 5\n",
        "print(nombre, edad)\n",
        "\n",
        "edad = \"cinco\"\n",
        "print(\"Tu edad: \", edad)"
      ],
      "metadata": {
        "colab": {
          "base_uri": "https://localhost:8080/"
        },
        "id": "hVnz5BqydK8k",
        "outputId": "ea5a2aa2-33c7-4657-a437-7d2643f849d2"
      },
      "execution_count": null,
      "outputs": [
        {
          "output_type": "stream",
          "name": "stdout",
          "text": [
            "Luis Hernandez 5\n",
            "Tu edad:  cinco\n"
          ]
        }
      ]
    },
    {
      "cell_type": "code",
      "source": [
        "num1 = 5\n",
        "num2 = 8.9\n",
        "suma = num1 + num2\n",
        "print(\"La suma es: \", suma)"
      ],
      "metadata": {
        "colab": {
          "base_uri": "https://localhost:8080/"
        },
        "id": "J0TOgfMbdy90",
        "outputId": "c3b6490c-4bd4-4d9f-ca3b-24cef165bd90"
      },
      "execution_count": null,
      "outputs": [
        {
          "output_type": "stream",
          "name": "stdout",
          "text": [
            "La suma es:  13.9\n"
          ]
        }
      ]
    },
    {
      "cell_type": "code",
      "source": [
        "num1 = float(input(\"Num1: \"))\n",
        "num2 = float(input(\"Num2: \"))\n",
        "suma = num1 + num2\n",
        "print(\"La suma es: \", suma)"
      ],
      "metadata": {
        "colab": {
          "base_uri": "https://localhost:8080/"
        },
        "id": "JMUfE44gfZaH",
        "outputId": "a84ac4a5-fac8-4811-9d25-da58c3122b64"
      },
      "execution_count": null,
      "outputs": [
        {
          "output_type": "stream",
          "name": "stdout",
          "text": [
            "Num1: 5\n",
            "Num2: 6\n",
            "La suma es:  11.0\n"
          ]
        }
      ]
    },
    {
      "cell_type": "markdown",
      "source": [
        "**TIPOS DE DATOS EN PYTHON**"
      ],
      "metadata": {
        "id": "DDD-VU-8QTVh"
      }
    },
    {
      "cell_type": "code",
      "source": [
        "#ENTERO\n",
        "num1 = 6\n",
        "print(num1, \"Esto es un numero entero\")\n",
        "print( str(num1) + \" Esto es un entero\"  )\n",
        "\n",
        "#DECIMAL\n",
        "num2 = 7.5\n",
        "print(num2, \"Esto es un numero decimal\")\n",
        "\n",
        "#BOOLEANO\n",
        "esMayor = True\n",
        "print(esMayor, \"Esto es un booleano\")\n",
        "\n",
        "#CADENA\n",
        "nombre = \"Luis Hernandez\"\n",
        "cadena = input(\"Dime una cadena: \")\n",
        "valor = int(input(\"Dime un valor: \"))\n",
        "print(nombre, \"Esto es una cadena\", cadena[:valor])\n",
        "\n",
        "print( nombre, \"Letra inicial\", nombre[0],  \"Un valor especifico\", nombre[5], \"rango\", nombre[0:4], \"Comenzar desde el final\", nombre[-1])\n",
        "print( nombre[5:len(nombre)], nombre[:4] )\n",
        "print(type(nombre))\n"
      ],
      "metadata": {
        "id": "-LwMVblLhwE7",
        "colab": {
          "base_uri": "https://localhost:8080/"
        },
        "outputId": "1c28a3ad-1218-4ac5-9205-888adfb615ed"
      },
      "execution_count": null,
      "outputs": [
        {
          "output_type": "stream",
          "name": "stdout",
          "text": [
            "6 Esto es un numero entero\n",
            "6 Esto es un entero\n",
            "7.5 Esto es un numero decimal\n",
            "True Esto es un booleano\n",
            "Dime una cadena: Hola\n",
            "Dime un valor: 4\n",
            "Luis Hernandez Esto es una cadena Hola\n",
            "Luis Hernandez Letra inicial L Un valor especifico H rango Luis Comenzar desde el final z\n",
            "Hernandez Luis\n",
            "<class 'str'>\n",
            "2025-07-28 13:49:35.455377 2025-07-28 13:49:35.455377\n",
            "<class 'datetime.datetime'>\n"
          ]
        }
      ]
    },
    {
      "cell_type": "code",
      "source": [
        "#FECHAS\n",
        "from datetime import datetime, date, time\n",
        "fecha = datetime.now()\n",
        "print(fecha, fecha.date(), fecha.time())\n",
        "print(type(fecha))\n",
        "\n",
        "fechaPersonalizada = date(2025,8,1)\n",
        "print(fechaPersonalizada)\n",
        "\n",
        "fecha = \"2025-08-08\"\n",
        "fecha = datetime.strptime(fecha, \"%Y-%m-%d\")\n",
        "print(fecha)\n",
        "\n",
        "print( fecha.strftime(\"%d/%m/%Y\"), \"Regresamos a clases \" )\n",
        "\n",
        "fechaNac = input(\"Dime tu fecha de nacimiento en formato d-m-Y: \")\n",
        "fechaNac = datetime.strptime(fechaNac, \"%d-%m-%Y\")\n",
        "print(fechaNac)"
      ],
      "metadata": {
        "colab": {
          "base_uri": "https://localhost:8080/"
        },
        "id": "vOFWyegxRGc1",
        "outputId": "aab8d1ca-cf18-47d5-8c44-0154e2bc5a2f"
      },
      "execution_count": null,
      "outputs": [
        {
          "output_type": "stream",
          "name": "stdout",
          "text": [
            "2025-07-28 14:03:11.210910 2025-07-28 14:03:11.210910\n",
            "<class 'datetime.datetime'>\n",
            "2025-08-01\n",
            "2025-08-08 00:00:00\n",
            "08/08/2025 Regresamos a clases \n",
            "Dime tu fecha de nacimiento en formato d-m-Y: 01-01-2025\n",
            "2025-01-01 00:00:00\n"
          ]
        }
      ]
    },
    {
      "cell_type": "markdown",
      "source": [
        "**FUNCIONES EN PYTHON**"
      ],
      "metadata": {
        "id": "NJvk2speaUn7"
      }
    },
    {
      "cell_type": "code",
      "source": [
        "#Suma\n",
        "def suma(num1, num2):\n",
        "  return num1 + num2"
      ],
      "metadata": {
        "id": "s2yQJkdAaZe1",
        "outputId": "9b4c3ef8-7e30-4991-8ea1-f50bbd45419e",
        "colab": {
          "base_uri": "https://localhost:8080/"
        }
      },
      "execution_count": null,
      "outputs": [
        {
          "output_type": "stream",
          "name": "stdout",
          "text": [
            "La suma de 5 + 8 =  13\n"
          ]
        }
      ]
    },
    {
      "cell_type": "code",
      "source": [
        "print(\"La suma de 5 + 8 = \", suma(5,8))"
      ],
      "metadata": {
        "id": "DH3p2fiUbhGP",
        "outputId": "8529cc5b-35b7-45a9-ef78-6cb1c093eb3e",
        "colab": {
          "base_uri": "https://localhost:8080/"
        }
      },
      "execution_count": null,
      "outputs": [
        {
          "output_type": "stream",
          "name": "stdout",
          "text": [
            "La suma de 5 + 8 =  13\n"
          ]
        }
      ]
    },
    {
      "cell_type": "code",
      "source": [
        "num1 = float(input(\"Num1: \"))\n",
        "num2 = float(input(\"Num2: \"))\n",
        "respuesta = suma(num1, num2)\n",
        "print(\"La suma es: \", respuesta)"
      ],
      "metadata": {
        "id": "m0AbSN96boIq",
        "outputId": "8ef2bfa2-6938-415f-99ac-78789a0944fe",
        "colab": {
          "base_uri": "https://localhost:8080/"
        }
      },
      "execution_count": null,
      "outputs": [
        {
          "output_type": "stream",
          "name": "stdout",
          "text": [
            "Num1: 8\n",
            "Num2: 6\n",
            "La suma es:  14.0\n"
          ]
        }
      ]
    },
    {
      "cell_type": "code",
      "source": [
        "#Hacer un ejercicio en python haciendo uso de las funciones, que reste dos numeros introducidos por el usuario. TAREA.\n"
      ],
      "metadata": {
        "id": "hKxtQsA_cRPh"
      },
      "execution_count": null,
      "outputs": []
    },
    {
      "cell_type": "code",
      "source": [
        "#Hacer un ejercicio en python haciendo uso de funciones de usuario, que convierta grados celcius a Farenheit.\n",
        "def celsiusFarenheit(c):\n",
        "  return c*1.8 + 32"
      ],
      "metadata": {
        "id": "2Y0BXI-TThR5"
      },
      "execution_count": null,
      "outputs": []
    },
    {
      "cell_type": "code",
      "source": [
        "c = int(input(\"Grados c: \"))\n",
        "f = celsiusFarenheit(c)\n",
        "print(\"F: \", f)"
      ],
      "metadata": {
        "id": "7C6o9TJ7XQK8",
        "outputId": "29479f24-6b5e-4ec1-d468-3e8b0b549b22",
        "colab": {
          "base_uri": "https://localhost:8080/"
        }
      },
      "execution_count": null,
      "outputs": [
        {
          "output_type": "stream",
          "name": "stdout",
          "text": [
            "Grados c: 38\n",
            "F:  100.4\n"
          ]
        }
      ]
    },
    {
      "cell_type": "code",
      "source": [
        "#Hacer un ejercicio en python haciendo uso de funciones de usuario, que convierta grados Farenheit a Celsius.\n",
        "def farenheitCelsius(f):\n",
        "  return (f-32) * 5/9\n",
        "\n",
        "f = float(input(\"F: \"))\n",
        "c = farenheitCelsius(f)\n",
        "print(\"C: \", c)"
      ],
      "metadata": {
        "id": "_GQob4SMZDF5",
        "outputId": "b0af9069-e9bd-4788-f57f-b9ee1fee20a6",
        "colab": {
          "base_uri": "https://localhost:8080/"
        }
      },
      "execution_count": null,
      "outputs": [
        {
          "output_type": "stream",
          "name": "stdout",
          "text": [
            "F: 100\n",
            "C:  37.77777777777778\n"
          ]
        }
      ]
    },
    {
      "cell_type": "code",
      "source": [
        "#Hacer un ejercicio en python haciendo uso de funciones de usuario, que convierta grados Celsius a Kelvin.\n",
        "def celsiusKelvin(c):\n",
        "  return c + 273.15\n",
        "\n",
        "c = float(input(\"C: \"))\n",
        "k = celsiusKelvin(c)\n",
        "print(\"K: \", k)"
      ],
      "metadata": {
        "id": "h5hTuDE4e5c7",
        "outputId": "0eb97320-1788-41de-aa4f-a9b898e0eb2d",
        "colab": {
          "base_uri": "https://localhost:8080/"
        }
      },
      "execution_count": null,
      "outputs": [
        {
          "output_type": "stream",
          "name": "stdout",
          "text": [
            "C: 35\n",
            "K:  308.15\n"
          ]
        }
      ]
    },
    {
      "cell_type": "code",
      "source": [
        "#Hacer un ejercicio en python haciendo uso de funciones de usuario, que calcule\n",
        "#el sueldo de un empleado, segun el numero de hrs trabajas y el valor por hora\n",
        "def sueldo(numHrs, valorXhr):\n",
        "  sueldo = numHrs * valorXhr * 30\n",
        "  return sueldo"
      ],
      "metadata": {
        "id": "b3XEICY6hbcp"
      },
      "execution_count": null,
      "outputs": []
    },
    {
      "cell_type": "code",
      "source": [
        "numHrs = float(input(\"Hrs: \"))\n",
        "valorXhr = float(input(\"Valor Xhr: \"))\n",
        "sueldo = sueldo(numHrs, valorXhr)\n",
        "\n",
        "print(\"Sueldo: \", sueldo)"
      ],
      "metadata": {
        "id": "GChDYzn-hlFI",
        "outputId": "5bb93049-1860-4470-8392-fd0959bb6883",
        "colab": {
          "base_uri": "https://localhost:8080/"
        }
      },
      "execution_count": null,
      "outputs": [
        {
          "output_type": "stream",
          "name": "stdout",
          "text": [
            "Hrs: 8\n",
            "Valor Xhr: 10\n",
            "Sueldo:  2400.0\n"
          ]
        }
      ]
    },
    {
      "cell_type": "code",
      "source": [
        "#Hacer un ejercicio en python haciendo uso de funciones de usuario, que permita elevar un numero a un exponente\n",
        "def expoenciacion(b,e):\n",
        "  return b**e\n",
        "\n",
        "b = float(input(\"Base: \"))\n",
        "e = float(input(\"Exponente: \"))\n",
        "\n",
        "resultado = expoenciacion(b,e)\n",
        "print(\"El Numero: \", b, \", elevado a \",e, \", el resultado es: \", resultado)"
      ],
      "metadata": {
        "id": "13UqFshCjxbg",
        "outputId": "b97386a9-29dd-4b7a-8aa0-a3b7e44e7f8b",
        "colab": {
          "base_uri": "https://localhost:8080/"
        }
      },
      "execution_count": null,
      "outputs": [
        {
          "output_type": "stream",
          "name": "stdout",
          "text": [
            "Base: 8\n",
            "Exponente: 3\n",
            "El Numero:  8.0 , elevado a  3.0 , el resultado es:  512.0\n"
          ]
        }
      ]
    },
    {
      "cell_type": "markdown",
      "source": [
        "**FUNCIONES ANONIMAS**"
      ],
      "metadata": {
        "id": "qpK6Xg53Pwhi"
      }
    },
    {
      "cell_type": "code",
      "source": [
        "def suma(a,b):\n",
        "  return a+b"
      ],
      "metadata": {
        "id": "lQT2jFZbP1eG"
      },
      "execution_count": null,
      "outputs": []
    },
    {
      "cell_type": "code",
      "source": [
        "a = float(input(\"Num1: \"))\n",
        "b = float(input(\"Num2: \"))\n",
        "\n",
        "suma = suma(a,b)\n",
        "print(\"La suma es: \", suma)"
      ],
      "metadata": {
        "id": "zesG1S2wP9D9",
        "outputId": "dd27c80d-4cd1-47c0-d179-3c62b6cabbc6",
        "colab": {
          "base_uri": "https://localhost:8080/"
        }
      },
      "execution_count": null,
      "outputs": [
        {
          "output_type": "stream",
          "name": "stdout",
          "text": [
            "Num1: 5\n",
            "Num2: 6\n",
            "La suma es:  11.0\n"
          ]
        }
      ]
    },
    {
      "cell_type": "code",
      "source": [
        "a = float(input(\"Num1: \"))\n",
        "b = float(input(\"Num2: \"))\n",
        "\n",
        "sum = lambda a,b: a+b\n",
        "print( \"La suma de \", a, \" mas b \", b, \" es igual \", sum(a,b) )"
      ],
      "metadata": {
        "id": "7-9ZIZu0QQGQ",
        "outputId": "cd23dbf8-e431-473c-a52d-b2a50a68c78b",
        "colab": {
          "base_uri": "https://localhost:8080/"
        }
      },
      "execution_count": null,
      "outputs": [
        {
          "output_type": "stream",
          "name": "stdout",
          "text": [
            "Num1: 5\n",
            "Num2: 6\n",
            "La suma de  5.0  mas b  6.0  es igual  11.0\n"
          ]
        }
      ]
    },
    {
      "cell_type": "markdown",
      "source": [
        "**FUNCIONES PRECONSTRUIDAS**"
      ],
      "metadata": {
        "id": "fVYySvqSR8nm"
      }
    },
    {
      "cell_type": "code",
      "source": [
        "def extraerPrimeraLetra(dia):\n",
        "  return dia[0]"
      ],
      "metadata": {
        "id": "QvPOBf3gSxFo"
      },
      "execution_count": null,
      "outputs": []
    },
    {
      "cell_type": "code",
      "source": [
        "#map\n",
        "semana = [\"Domingo\", \"Lunes\", \"Martes\", \"Miercoles\", \"Jueves\", \"Viernes\", \"Sabado\"]\n",
        "\n",
        "primeraLetraDia = map(lambda dia: dia[0], semana)\n",
        "print(list(primeraLetraDia))\n",
        "\n",
        "mayusSemana = map(lambda dia: dia.upper(), semana)\n",
        "print(list(mayusSemana))\n",
        "\n",
        "print( list(map(extraerPrimeraLetra, semana)) )\n"
      ],
      "metadata": {
        "id": "wtP7uIHvSB9H",
        "outputId": "7a1cbf12-b63c-48f5-b477-dd08df53ecc0",
        "colab": {
          "base_uri": "https://localhost:8080/"
        }
      },
      "execution_count": null,
      "outputs": [
        {
          "output_type": "stream",
          "name": "stdout",
          "text": [
            "['D', 'L', 'M', 'M', 'J', 'V', 'S']\n",
            "['DOMINGO', 'LUNES', 'MARTES', 'MIERCOLES', 'JUEVES', 'VIERNES', 'SABADO']\n",
            "['D', 'L', 'M', 'M', 'J', 'V', 'S']\n"
          ]
        }
      ]
    },
    {
      "cell_type": "code",
      "source": [
        "numeros = [2,4,6,8,7,9]\n",
        "potencia = int(input(\"Potencia: \"))\n",
        "numeroPotencia = map(lambda num: num**potencia, numeros)\n",
        "\n",
        "print(list(numeroPotencia))"
      ],
      "metadata": {
        "id": "pHqOePFDTbgh",
        "outputId": "9d2f3200-1e97-4e25-d28f-dd6e5e1623df",
        "colab": {
          "base_uri": "https://localhost:8080/"
        }
      },
      "execution_count": null,
      "outputs": [
        {
          "output_type": "stream",
          "name": "stdout",
          "text": [
            "Potencia: 2\n",
            "[4, 16, 36, 64, 49, 81]\n"
          ]
        }
      ]
    },
    {
      "cell_type": "code",
      "source": [
        "ntabla  = int(input(\"Tabla:\"))\n",
        "numeros = [1,2,3,4,5,6,7,8,9,10]\n",
        "tabla = map(lambda num: num*ntabla, numeros)\n",
        "\n",
        "print(list(tabla))"
      ],
      "metadata": {
        "id": "NSZBvKAlVF4r",
        "outputId": "ac8fba0c-36b8-4d22-90c6-c4d0b9feb1e1",
        "colab": {
          "base_uri": "https://localhost:8080/"
        }
      },
      "execution_count": null,
      "outputs": [
        {
          "output_type": "stream",
          "name": "stdout",
          "text": [
            "Tabla:9\n",
            "[9, 18, 27, 36, 45, 54, 63, 72, 81, 90]\n"
          ]
        }
      ]
    },
    {
      "cell_type": "code",
      "source": [
        "serie = [5,6,9,2,7,8]\n",
        "pares = filter(lambda num: num%2==0, serie) #% ===> a modulo, obtener el residuo.\n",
        "\n",
        "print(list(pares))\n",
        "\n",
        "impares = filter(lambda num: num%2!=0, serie)\n",
        "\n",
        "print(list(impares))"
      ],
      "metadata": {
        "id": "XfoM1PsLWK2N",
        "outputId": "a888f6e8-712d-4155-a30d-b0532917ddff",
        "colab": {
          "base_uri": "https://localhost:8080/"
        }
      },
      "execution_count": null,
      "outputs": [
        {
          "output_type": "stream",
          "name": "stdout",
          "text": [
            "[6, 2, 8]\n"
          ]
        }
      ]
    },
    {
      "cell_type": "code",
      "source": [
        "\n",
        "serieUser = input(\"Serie: \") # \"5,2,8,1\" --> serie[0]=\"5\"; serie[1]=\"2\"; etc..\n",
        "serieUser = serieUser.split(\",\")\n",
        "\n",
        "pares = filter(lambda num: int(num)%2==0, serieUser)\n",
        "impares = filter(lambda num: int(num)%2!=0, serieUser)\n",
        "\n",
        "print(\"Pares: \",list(pares))\n",
        "print(\"Impares: \", list(impares))"
      ],
      "metadata": {
        "id": "-V32NEjdXLyB",
        "outputId": "2588731b-ac27-4a1b-8454-82c1e8755836",
        "colab": {
          "base_uri": "https://localhost:8080/"
        }
      },
      "execution_count": null,
      "outputs": [
        {
          "output_type": "stream",
          "name": "stdout",
          "text": [
            "Serie: 5,2,8,1,9\n",
            "Pares:  ['2', '8']\n",
            "Impares:  ['5', '1', '9']\n"
          ]
        }
      ]
    },
    {
      "cell_type": "markdown",
      "source": [
        "Hacer un ejercicio en python usando la funcion filter y lambda que de una seria de notas introducidas por el usuario, establezca cuantos pasan la materia (>6) y cuantos se quedan (<6).\n",
        "\n"
      ],
      "metadata": {
        "id": "YmPEit_Eb3z8"
      }
    },
    {
      "cell_type": "code",
      "source": [
        "#reduce\n",
        "from functools import reduce\n",
        "\n",
        "numeros = [5,4,9,6,8,2,3]\n",
        "suma = reduce(lambda acum, num: num+acum, numeros)\n",
        "\n",
        "sumaPares = reduce(lambda acum, num: num+acum, filter(lambda num: num%2==0, numeros))\n",
        "sumaPar = reduce(lambda acum, num: acum + num if num%2==0 else acum, numeros,0)\n",
        "\n",
        "print(\"La suma es: \", suma)\n",
        "print(\"La suma de los pares es: \", sumaPares)\n",
        "print(\"Suma Pares: \", sumaPar)"
      ],
      "metadata": {
        "id": "e0LDOf00b0lO",
        "outputId": "e3399127-77ea-4912-a2b5-1499fc056475",
        "colab": {
          "base_uri": "https://localhost:8080/"
        }
      },
      "execution_count": null,
      "outputs": [
        {
          "output_type": "stream",
          "name": "stdout",
          "text": [
            "La suma es:  37\n",
            "La suma de los pares es:  20\n",
            "Suma Pares:  20\n"
          ]
        }
      ]
    },
    {
      "cell_type": "markdown",
      "source": [
        "**TUPLAS**"
      ],
      "metadata": {
        "id": "cBM6SEwIe7lw"
      }
    },
    {
      "cell_type": "code",
      "source": [
        "tupla = (5,2,3,7,8,5)\n",
        "#tupla[0] = 1\n",
        "print(\"Tupla: \", tupla, \"Primer elemento: \", tupla[0], \"El numero 5 parece \", tupla.count(5))\n",
        "print(\"Ultimo elemento: \", tupla[-1])\n",
        "print(\"Rango: \", tupla[0:5])"
      ],
      "metadata": {
        "id": "uXKpRc28fAYI",
        "outputId": "0a1e8279-45d6-4bc2-d31d-1ed11d459f7f",
        "colab": {
          "base_uri": "https://localhost:8080/"
        }
      },
      "execution_count": null,
      "outputs": [
        {
          "output_type": "stream",
          "name": "stdout",
          "text": [
            "Tupla:  (5, 2, 3, 7, 8, 5) Primer elemento:  5 El numero 5 parece  2\n",
            "Ultimo elemento:  5\n",
            "Rango:  (5, 2, 3, 7, 8)\n"
          ]
        }
      ]
    },
    {
      "cell_type": "code",
      "source": [
        "import datetime\n",
        "fecha = datetime.date.today()\n",
        "\n",
        "semana = (\"Domingo\", \"Lunes\", \"Martes\", \"Miercoles\", \"Jueves\", \"Viernes\", \"Sabado\")\n",
        "meses = (\"\", \"Enero\", \"Febrero\", \"Marzo\", \"Abril\", \"Mayo\", \"Junio\", \"Julio\", \"Agosto\", \"Septiembre\", \"Octubre\", \"Noviembre\", \"Diciembre\")\n",
        "dia = fecha.day\n",
        "mes = fecha.month\n",
        "year = fecha.year\n",
        "diaSemana = semana[fecha.isoweekday()]\n",
        "\n",
        "print(diaSemana, dia, \"del\", meses[mes], \"del\", year)\n",
        "print(fecha, fecha.isoweekday(), diaSemana)\n",
        "print(dia, mes, year)"
      ],
      "metadata": {
        "id": "aX2FY0TfhKfc",
        "outputId": "ae05b96a-dfbb-4110-b305-43d99c14e45d",
        "colab": {
          "base_uri": "https://localhost:8080/"
        }
      },
      "execution_count": null,
      "outputs": [
        {
          "output_type": "stream",
          "name": "stdout",
          "text": [
            "Martes 12 del Agosto del 2025\n",
            "2025-08-12 2 Martes\n",
            "12 8 2025\n"
          ]
        }
      ]
    },
    {
      "cell_type": "markdown",
      "source": [
        "**LISTAS**"
      ],
      "metadata": {
        "id": "oF0p0ViMl62X"
      }
    },
    {
      "cell_type": "code",
      "source": [
        "lista = [5,8,9,4, \"Progra III\", True, [4,8,9, [8,9,4]]]\n",
        "print(lista)"
      ],
      "metadata": {
        "id": "Cdit8XD3l-6N",
        "outputId": "5b1b3056-f198-4058-ffea-713bbfe99f9b",
        "colab": {
          "base_uri": "https://localhost:8080/"
        }
      },
      "execution_count": null,
      "outputs": [
        {
          "output_type": "stream",
          "name": "stdout",
          "text": [
            "[5, 8, 9, 4, 'Progra III', True, [4, 8, 9, [8, 9, 4]]]\n"
          ]
        }
      ]
    },
    {
      "cell_type": "code",
      "source": [
        "def calcularPromedio(nota, notas):\n",
        "  return notas[1]*notas[2] + nota # 8*0.3 + 9*0.3 + 10*0.3"
      ],
      "metadata": {
        "id": "WseRKxMLnOqN"
      },
      "execution_count": null,
      "outputs": []
    },
    {
      "cell_type": "code",
      "source": [
        "#Hacer un ejercicio en python que obtenga la nota final de Progra III del computo I, haciendo uso de las listas y de las funciones.\n",
        "from functools import reduce\n",
        "#estudiante...\n",
        "notas = [\n",
        "    [\"Lab1\", 10, 0.3],\n",
        "    [\"Lab2\", 10, 0.3],\n",
        "    [\"Parcial1\", 10, 0.4],\n",
        "\n",
        "    [\"Lab1\", 10, 0.3],\n",
        "    [\"Lab2\", 10, 0.3],\n",
        "    [\"Parcial2\", 10, 0.4],\n",
        "\n",
        "    [\"Lab1\", 10, 0.3],\n",
        "    [\"Lab2\", 10, 0.3],\n",
        "    [\"Parcial3\", 10, 0.4]\n",
        "  ]\n",
        "prom = reduce(calcularPromedio, notas, 0)\n",
        "nf = prom / 3\n",
        "print(\"Nota Final de Progra III: \", nf)"
      ],
      "metadata": {
        "id": "L3JUmEYdm48L",
        "outputId": "e642f6b1-9057-46a4-a033-0be2c97c7f59",
        "colab": {
          "base_uri": "https://localhost:8080/"
        }
      },
      "execution_count": null,
      "outputs": [
        {
          "output_type": "stream",
          "name": "stdout",
          "text": [
            "Nota Final de Progra III:  10.0\n"
          ]
        }
      ]
    },
    {
      "cell_type": "code",
      "source": [
        "#Hacer un ejercicio en python que obtenga la nota final de Progra III del computo I,\n",
        "#donde el usuario va introducir las notas, haciendo uso de las listas y de las funciones.\n",
        "from functools import reduce\n",
        "\n",
        "notas = []\n",
        "for i in range(1,4):\n",
        "  nota = float(input(\"Act: \"+ str(i) + \": \"))\n",
        "  porcentaje = float(input(\"Porcentaje: \"))\n",
        "  notas.append([\"Act. \"+ str(i), nota, porcentaje])\n",
        "\n",
        "prom = reduce(calcularPromedio, notas, 0)\n",
        "print(\"Nota Final de C1 \", prom)\n"
      ],
      "metadata": {
        "id": "bjy1H4dIVt7q",
        "outputId": "d7b501fa-440b-47d3-ed28-2dc6f606fd3b",
        "colab": {
          "base_uri": "https://localhost:8080/"
        }
      },
      "execution_count": null,
      "outputs": [
        {
          "output_type": "stream",
          "name": "stdout",
          "text": [
            "Act: 1: 7\n",
            "Porcentaje: 0.3\n",
            "Act: 2: 9\n",
            "Porcentaje: 0.3\n",
            "Act: 3: 10\n",
            "Porcentaje: 0.4\n",
            "Nota Final de C1  8.8\n"
          ]
        }
      ]
    },
    {
      "cell_type": "code",
      "source": [
        "#sort\n",
        "valores = [5,8,9,1,3,4,7]\n",
        "\n",
        "print(valores, \"Lista original\")\n",
        "\n",
        "valores.sort()\n",
        "print(valores, \"POrdenados de menor a mayor\")\n",
        "\n",
        "valores.reverse()\n",
        "print(valores, \"Ordenados de mayor a menor\")\n",
        "\n",
        "#valores.sort(reverse=True)\n",
        "#print(valores, \"Ordenados de mayor a menor\")"
      ],
      "metadata": {
        "id": "ujcSmo9mYX2u",
        "outputId": "cc7a86ec-5cd7-464a-8fd7-e7eb03c8b98b",
        "colab": {
          "base_uri": "https://localhost:8080/"
        }
      },
      "execution_count": null,
      "outputs": [
        {
          "output_type": "stream",
          "name": "stdout",
          "text": [
            "[5, 8, 9, 1, 3, 4, 7] Lista original\n",
            "[1, 3, 4, 5, 7, 8, 9] POrdenados de menor a mayor\n",
            "[9, 8, 7, 5, 4, 3, 1] Ordenados de mayor a menor\n"
          ]
        }
      ]
    },
    {
      "cell_type": "markdown",
      "source": [
        "**DICCIONARIOS - JSON**"
      ],
      "metadata": {
        "id": "Jm9kC8ykZyfL"
      }
    },
    {
      "cell_type": "code",
      "source": [
        "persona = {\n",
        "  \"codigo\": \"USIS018804\",\n",
        "  \"nombre\": \"Luis Hernandez\",\n",
        "  \"materias\": [\n",
        "    {\n",
        "      \"codigo\": 611,\n",
        "      \"nombre\": \"Programacion I\",\n",
        "      \"notas\":{\n",
        "        \"c1\": {\"lab1\":8, \"lab2\":9.9, \"parcial\":10},\n",
        "        \"c2\": {\"lab1\":7.78, \"lab2\":6.5, \"parcial\":8},\n",
        "        \"c3\": {\"lab1\":10, \"lab2\":9, \"parcial\":9}\n",
        "      }\n",
        "    },\n",
        "    {\n",
        "      \"codigo\": 612,\n",
        "      \"nombre\": \"Programacion II\",\n",
        "      \"notas\":{\n",
        "        \"c1\": {\"lab1\":5, \"lab2\": 7, \"parcial\":9},\n",
        "        \"c2\": {\"lab1\":9, \"lab2\": 6, \"parcial\": 10},\n",
        "        \"c3\": {\"lab1\":10, \"lab2\": 10, \"parcial\": 9}\n",
        "      }\n",
        "    }\n",
        "  ]\n",
        "}\n",
        "print(persona[\"nombre\"], \"->\", persona[\"materias\"][0][\"nombre\"], \"-> CI: \",\n",
        "      persona[\"materias\"][0][\"notas\"][\"c1\"],\n",
        "      persona[\"materias\"][0][\"notas\"][\"c1\"][\"lab1\"]\n",
        "      )"
      ],
      "metadata": {
        "id": "cqCYAlyUZxv4",
        "outputId": "d21e089a-a122-4d42-de41-f4b030045cee",
        "colab": {
          "base_uri": "https://localhost:8080/"
        }
      },
      "execution_count": null,
      "outputs": [
        {
          "output_type": "stream",
          "name": "stdout",
          "text": [
            "Luis Hernandez -> Programacion I -> CI:  {'lab1': 8, 'lab2': 9.9, 'parcial': 10} 8\n"
          ]
        }
      ]
    },
    {
      "cell_type": "markdown",
      "source": [
        "**ESTRUCTURAS DE CONTROL**"
      ],
      "metadata": {
        "id": "BBbSFUgKd80W"
      }
    },
    {
      "cell_type": "code",
      "source": [
        "#if\n",
        "#hacer un ejercicio en python que permita clasificar las edades segun su rango\n",
        "edad = int(input(\"Edad: \"))\n",
        "if(edad<0):\n",
        "  print(\"Error al ingresar la edad, solo valores positivos.\")\n",
        "elif(edad<=2):\n",
        "  print(\"Eres un bebe...\")\n",
        "elif(edad<=11):\n",
        "  print(\"Eres un niño...\")\n",
        "elif(edad<18):\n",
        "  print(\"Eres un adolescente...\")\n",
        "elif(edad<65):\n",
        "  print(\"Eres un adulto responsable...\")\n",
        "elif(edad<85):\n",
        "  print(\"Eres un adulto mayor...\")\n",
        "else:\n",
        "  print(\"Larga vida...\")"
      ],
      "metadata": {
        "id": "vM8DBcjod8Wm",
        "outputId": "5e1f5a76-06a9-4369-ed2e-eda5e2f69f26",
        "colab": {
          "base_uri": "https://localhost:8080/"
        }
      },
      "execution_count": null,
      "outputs": [
        {
          "output_type": "stream",
          "name": "stdout",
          "text": [
            "Edad: 90\n",
            "Larga vida...\n"
          ]
        }
      ]
    },
    {
      "cell_type": "code",
      "source": [
        "#Determinar si un numero introducido por el usuario es primo\n",
        "num = int(input(\"Num: \"))\n",
        "\n",
        "acum = 0\n",
        "i=1\n",
        "while i<=num and acum<=2:\n",
        "  if( num%i==0 ):\n",
        "    acum+=1\n",
        "  i+=1\n",
        "if(acum<=2):\n",
        "  print(\"El numero \", num, \" ES primo\")\n",
        "else:\n",
        "  print(\"El numero \", num, \" NO es primo\")"
      ],
      "metadata": {
        "colab": {
          "base_uri": "https://localhost:8080/"
        },
        "id": "fva21wAFU8ew",
        "outputId": "82e99286-f607-4532-8a74-edea37ee9e81"
      },
      "execution_count": null,
      "outputs": [
        {
          "output_type": "stream",
          "name": "stdout",
          "text": [
            "Num: 97\n",
            "El numero  97  ES primo\n"
          ]
        }
      ]
    },
    {
      "cell_type": "code",
      "source": [
        "#Generar la tabla de multiplicar de un numero dado por el usuario.\n",
        "continuar=\"s\"\n",
        "while(continuar==\"s\"):\n",
        "  ntabla = int(input(\"Tabla: \"))\n",
        "  for i in range(1,11):\n",
        "    print(ntabla, \"x\", i, \"=\", ntabla*i)\n",
        "  continuar = input(\"Copntinuar s, sino cualquier tecla: \")"
      ],
      "metadata": {
        "colab": {
          "base_uri": "https://localhost:8080/"
        },
        "id": "22IKXFE8XHgH",
        "outputId": "fb87a0e4-ea89-46c6-ac20-f2b4cd83531f"
      },
      "execution_count": null,
      "outputs": [
        {
          "name": "stdout",
          "output_type": "stream",
          "text": [
            "Tabla: 9\n",
            "9 x 1 = 9\n",
            "9 x 2 = 18\n",
            "9 x 3 = 27\n",
            "9 x 4 = 36\n",
            "9 x 5 = 45\n",
            "9 x 6 = 54\n",
            "9 x 7 = 63\n",
            "9 x 8 = 72\n",
            "9 x 9 = 81\n",
            "9 x 10 = 90\n",
            "Copntinuar s, sino cualquier tecla: s\n",
            "Tabla: 7\n",
            "7 x 1 = 7\n",
            "7 x 2 = 14\n",
            "7 x 3 = 21\n",
            "7 x 4 = 28\n",
            "7 x 5 = 35\n",
            "7 x 6 = 42\n",
            "7 x 7 = 49\n",
            "7 x 8 = 56\n",
            "7 x 9 = 63\n",
            "7 x 10 = 70\n",
            "Copntinuar s, sino cualquier tecla: \n"
          ]
        }
      ]
    },
    {
      "cell_type": "markdown",
      "source": [
        "**PROGRAMACION ORIENTADA A OBJETOS**"
      ],
      "metadata": {
        "id": "rn-JJkyRfNTC"
      }
    },
    {
      "cell_type": "markdown",
      "source": [
        "\n",
        "\n",
        "*   CLASES\n",
        "\n"
      ],
      "metadata": {
        "id": "2eOe6gMRfTIu"
      }
    },
    {
      "cell_type": "code",
      "source": [
        "class calculadora:\n",
        "  def sumar(num1, num2):\n",
        "    return num1+num2"
      ],
      "metadata": {
        "id": "NvxSLpvSfRNM"
      },
      "execution_count": null,
      "outputs": []
    },
    {
      "cell_type": "markdown",
      "source": [
        "\n",
        "\n",
        "*   OBJETO\n",
        "\n"
      ],
      "metadata": {
        "id": "Eh1BC4JAflWy"
      }
    },
    {
      "cell_type": "code",
      "source": [
        "objCalculadora = calculadora() #creamos el objeto apartir de la clase\n",
        "num1 = float(input(\"Num1: \"))\n",
        "num2 = float(input(\"Num2: \"))\n",
        "print(num1, \"+\", num2, \"=\", calculadora.sumar(num1, num2))"
      ],
      "metadata": {
        "colab": {
          "base_uri": "https://localhost:8080/"
        },
        "id": "bxcJl5IKfoGs",
        "outputId": "1e66a678-c6db-4689-946e-de4611a06c73"
      },
      "execution_count": null,
      "outputs": [
        {
          "output_type": "stream",
          "name": "stdout",
          "text": [
            "Num1: 8\n",
            "Num2: 5\n",
            "8.0 + 5.0 = 13.0\n"
          ]
        }
      ]
    },
    {
      "cell_type": "code",
      "source": [
        "#Hecer un programa que lea una serie de numero introeducidos por el usuario y determine la media artimetica.\n",
        "from math import sqrt\n",
        "class estadistica:\n",
        "  def media(self, serie):\n",
        "    suma = 0\n",
        "    for num in serie:\n",
        "      suma += int(num)\n",
        "    return suma/len(serie)\n",
        "\n",
        "  def tipica(self, serie):\n",
        "    media = self.media(serie)\n",
        "    suma = 0\n",
        "    for num in serie:\n",
        "      suma += (int(num)-media)**2\n",
        "    return sqrt( suma/len(serie) )"
      ],
      "metadata": {
        "id": "FuixfD0HhGwT"
      },
      "execution_count": null,
      "outputs": []
    },
    {
      "cell_type": "code",
      "source": [
        "serie = input(\"Serie ejem: 1,5,2,3: \").split(\",\")\n",
        "objEstadistica = estadistica()\n",
        "print(\"La media es: \", objEstadistica.media(serie), \"la desvicacion tipica es: \", round(objEstadistica.tipica(serie), 2) )"
      ],
      "metadata": {
        "colab": {
          "base_uri": "https://localhost:8080/"
        },
        "id": "40lqljOHhnoa",
        "outputId": "e8f1e02f-dfee-47c4-bdd8-7e3df6b64e97"
      },
      "execution_count": null,
      "outputs": [
        {
          "output_type": "stream",
          "name": "stdout",
          "text": [
            "Serie ejem: 1,5,2,3: 1,2,3,4,5\n",
            "La media es:  3.0 la desvicacion tipica es:  1.41\n"
          ]
        }
      ]
    },
    {
      "cell_type": "markdown",
      "source": [
        "**TAREA**\n",
        "\n",
        "\n",
        "\n",
        "1.   Encontrar la varianza en una serie de numeros introducidos por el usuario.\n",
        "2.   Encontrar la frecuencia en una serie de numeros introducidos por el usuario.\n",
        "3.   Escriba un programa que determine si una palabra es palinbdrome. Ejm. ana, oso, oro, reconocer, bob, somos, ala, salas, etc.\n",
        "\n"
      ],
      "metadata": {
        "id": "Inh6IEuXlCyV"
      }
    },
    {
      "cell_type": "code",
      "source": [
        "#Crear un programa que calcule el mayor y el menor de N numeros\n",
        "\n",
        "class calculadora:\n",
        "  def mayor(self, serie):\n",
        "    mayor = serie[0]\n",
        "    for num in serie:\n",
        "      if(num>mayor):\n",
        "        mayor = num\n",
        "    return mayor\n",
        "\n",
        "  def menor(self, serie):\n",
        "    menor = serie[0]\n",
        "    for num in serie:\n",
        "      if(num<menor):\n",
        "        menor = num\n",
        "    return menor\n"
      ],
      "metadata": {
        "id": "YVLh4AJXmN24"
      },
      "execution_count": 10,
      "outputs": []
    },
    {
      "cell_type": "code",
      "source": [
        "calcular = calculadora()\n",
        "serie = input(\"serie ejm: 1,5,4,9,3:\").split(\",\")\n",
        "print(serie)\n",
        "print(\"El mayor es: \", calcular.mayor(serie), \"El menor es: \", calcular.menor(serie))\n"
      ],
      "metadata": {
        "colab": {
          "base_uri": "https://localhost:8080/"
        },
        "id": "3Oz3Hl_djHfG",
        "outputId": "de21cbea-e7e4-4357-95e5-6228cd12ec0a"
      },
      "execution_count": 11,
      "outputs": [
        {
          "output_type": "stream",
          "name": "stdout",
          "text": [
            "serie ejm: 1,5,4,9,3:1,2,6,7\n",
            "['1', '2', '6', '7']\n",
            "El mayor es:  7 El menor es:  1\n"
          ]
        }
      ]
    },
    {
      "cell_type": "code",
      "source": [
        "#Encontrar la persona de mayor edad en una lista de datos\n",
        "personas = [\n",
        "    {\"Nombre\":\"Steven\", \"edad\": 19},\n",
        "    {\"Nombre\":\"Walter\", \"edad\": 19},\n",
        "    {\"Nombre\":\"Javier\", \"edad\": 80},\n",
        "    {\"Nombre\":\"Yomi\", \"edad\": 21},\n",
        "]\n",
        "def mayorEdad(personas):\n",
        "  mayor = personas[0]\n",
        "  for per in personas:\n",
        "    if(per[\"edad\"]>mayor[\"edad\"]):\n",
        "      mayor = per\n",
        "  return mayor\n",
        "\n",
        "def menorEdad(personas):\n",
        "  menor = personas[0]\n",
        "  for per in personas:\n",
        "    if(per[\"edad\"]<menor[\"edad\"]):\n",
        "      menor = per\n",
        "  return menor\n",
        "\n",
        "print(\"La persona de mayor edad es: \", mayorEdad(personas))\n",
        "print(\"La persona de menor edad es: \", menorEdad(personas))"
      ],
      "metadata": {
        "id": "_kZdpd2DtC_p",
        "outputId": "9ec597bd-231c-41c4-fe02-da1322f51117",
        "colab": {
          "base_uri": "https://localhost:8080/"
        }
      },
      "execution_count": 15,
      "outputs": [
        {
          "output_type": "stream",
          "name": "stdout",
          "text": [
            "La persona de mayor edad es:  {'Nombre': 'Javier', 'edad': 80}\n",
            "La persona de menor edad es:  {'Nombre': 'Steven', 'edad': 19}\n"
          ]
        }
      ]
    }
  ]
}