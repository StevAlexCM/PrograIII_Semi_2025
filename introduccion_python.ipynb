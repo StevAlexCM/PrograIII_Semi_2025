{
  "nbformat": 4,
  "nbformat_minor": 0,
  "metadata": {
    "colab": {
      "provenance": [],
      "authorship_tag": "ABX9TyOmFuXNLC/RfPvJe8q0eMHP",
      "include_colab_link": true
    },
    "kernelspec": {
      "name": "python3",
      "display_name": "Python 3"
    },
    "language_info": {
      "name": "python"
    }
  },
  "cells": [
    {
      "cell_type": "markdown",
      "metadata": {
        "id": "view-in-github",
        "colab_type": "text"
      },
      "source": [
        "<a href=\"https://colab.research.google.com/github/StevAlexCM/PrograIII_Semi_2025/blob/main/introduccion_python.ipynb\" target=\"_parent\"><img src=\"https://colab.research.google.com/assets/colab-badge.svg\" alt=\"Open In Colab\"/></a>"
      ]
    },
    {
      "cell_type": "code",
      "execution_count": null,
      "metadata": {
        "colab": {
          "base_uri": "https://localhost:8080/"
        },
        "id": "Mk7efW3kUfTu",
        "outputId": "6062fc56-053c-4293-e8bc-9378df93a98d"
      },
      "outputs": [
        {
          "output_type": "stream",
          "name": "stdout",
          "text": [
            "Hola mundo!\n",
            "Bienvenidos a la clase de programacion computacional III\n"
          ]
        }
      ],
      "source": [
        "print(\"Hola mundo!\")\n",
        "print(\"Bienvenidos a la clase de programacion computacional III\")"
      ]
    },
    {
      "cell_type": "code",
      "source": [
        "nombre = \"Steven Campos\"\n",
        "edad = 19\n",
        "print (nombre, edad)\n",
        "\n",
        "edad = \"diecinueve\"\n",
        "print (\"tu edad: \" , edad)"
      ],
      "metadata": {
        "colab": {
          "base_uri": "https://localhost:8080/"
        },
        "id": "3I5zViiPVB2v",
        "outputId": "3b30c8e9-9875-4e37-acd0-dc4e2c24f89e"
      },
      "execution_count": null,
      "outputs": [
        {
          "output_type": "stream",
          "name": "stdout",
          "text": [
            "Steven Campos 19\n",
            "tu edad:  diecinueve\n"
          ]
        }
      ]
    },
    {
      "cell_type": "code",
      "source": [
        "num1 = 7\n",
        "num2= 6.5\n",
        "suma = num1 + num2\n",
        "print(\"La suma es:\", suma)"
      ],
      "metadata": {
        "colab": {
          "base_uri": "https://localhost:8080/"
        },
        "id": "6iIge-InWLPH",
        "outputId": "16fc8ba5-e6bb-4534-fe5c-55a8518f38a8"
      },
      "execution_count": null,
      "outputs": [
        {
          "output_type": "stream",
          "name": "stdout",
          "text": [
            "La suma es: 13.5\n"
          ]
        }
      ]
    },
    {
      "cell_type": "code",
      "source": [
        "num1 = float (input(\"Num1: \"))\n",
        "num2 = float (input(\"Num2: \"))\n",
        "suma = num1 + num2\n",
        "print(\"La suma es: \", suma)"
      ],
      "metadata": {
        "colab": {
          "base_uri": "https://localhost:8080/"
        },
        "id": "a8qBZzF1WOOR",
        "outputId": "eba019b2-0ec3-4044-ac34-05520799769f"
      },
      "execution_count": null,
      "outputs": [
        {
          "output_type": "stream",
          "name": "stdout",
          "text": [
            "Num1: 5\n",
            "Num2: 3\n",
            "La suma es:  8.0\n"
          ]
        }
      ]
    },
    {
      "cell_type": "code",
      "source": [
        "num1 = float(input(\"Num1: \"))\n",
        "num2 = float(input(\"Num2: \"))\n",
        "resta = num1 - num2\n",
        "print(\"La resta es: \", resta)"
      ],
      "metadata": {
        "colab": {
          "base_uri": "https://localhost:8080/"
        },
        "id": "l17QaFasXxOX",
        "outputId": "7f2a4ead-3bef-4121-c431-5d3e19244af0"
      },
      "execution_count": null,
      "outputs": [
        {
          "output_type": "stream",
          "name": "stdout",
          "text": [
            "Num1: 8\n",
            "Num2: 3\n",
            "La resta es:  5.0\n"
          ]
        }
      ]
    },
    {
      "cell_type": "code",
      "source": [
        "# entero\n",
        "num1 = 6\n",
        "print (str(num1) + \" Esto es un numero entero\")\n",
        "\n",
        "#Decimal\n",
        "num2 = 7.5\n",
        "print(num2, \"Esto es un numero decimal\")\n",
        "\n",
        "#Boolenao\n",
        "esMayor = True\n",
        "print(esMayor, \"Esto es un booleano\")\n",
        "\n",
        "#Cadena\n",
        "nombre = \"Steven Campos\"\n",
        "print(nombre, \"Esto es una cadena\")\n",
        "print(nombre, \"Letra inicial:\", nombre[0],\"Un valor en especifico:\", nombre[5], \"rango:\", nombre[0:6],\"Comenzar desde el final:\", nombre[-1])\n",
        "\n",
        "#Fecha\n",
        "from datetime import datetime, date, time\n",
        "fecha = datetime.now()\n",
        "print(fecha, fecha.date(), fecha.time())\n",
        "print(type(fecha))\n",
        "\n",
        "\n",
        "fechaPersonalizada = date(2025,8,1)\n",
        "print(fechaPersonalizada)\n"
      ],
      "metadata": {
        "colab": {
          "base_uri": "https://localhost:8080/"
        },
        "id": "mFEJVFUmX5oD",
        "outputId": "5d314d74-54eb-4e31-b27a-569b33a25c29"
      },
      "execution_count": null,
      "outputs": [
        {
          "output_type": "stream",
          "name": "stdout",
          "text": [
            "6 Esto es un numero entero\n",
            "7.5 Esto es un numero decimal\n",
            "True Esto es un booleano\n",
            "Steven Campos Esto es una cadena\n",
            "Steven Campos Letra inicial: S Un valor en especifico: n rango: Steven Comenzar desde el final: s\n",
            "2025-07-29 13:30:13.477512 2025-07-29 13:30:13.477512\n",
            "<class 'datetime.datetime'>\n",
            "2025-08-01\n"
          ]
        }
      ]
    },
    {
      "cell_type": "code",
      "source": [
        "#Suma\n",
        "def suma(num1, num2):\n",
        "    return num1 + num2"
      ],
      "metadata": {
        "id": "ANjgzoipYHRd"
      },
      "execution_count": null,
      "outputs": []
    },
    {
      "cell_type": "code",
      "source": [
        "print( \"la suma de 5 + 8 es: \", suma(5,8))"
      ],
      "metadata": {
        "colab": {
          "base_uri": "https://localhost:8080/"
        },
        "id": "aP7oo57TYNgz",
        "outputId": "3d1a5141-f296-42c0-a81a-97e4a843d053"
      },
      "execution_count": null,
      "outputs": [
        {
          "output_type": "stream",
          "name": "stdout",
          "text": [
            "la suma de 5 + 8 es:  13\n"
          ]
        }
      ]
    },
    {
      "cell_type": "code",
      "source": [
        "num1 = float(input(\"Num1: \"))\n",
        "num2 = float(input(\"Num2: \"))\n",
        "respuesta = suma(num1, num2)\n",
        "print(\"La suma es: \", respuesta)"
      ],
      "metadata": {
        "colab": {
          "base_uri": "https://localhost:8080/"
        },
        "id": "ZfhA2CpVYYKV",
        "outputId": "ad816809-92df-4266-fb21-8ec19e10e53a"
      },
      "execution_count": null,
      "outputs": [
        {
          "output_type": "stream",
          "name": "stdout",
          "text": [
            "Num1: 8\n",
            "Num2: 10\n",
            "La suma es:  18.0\n"
          ]
        }
      ]
    },
    {
      "cell_type": "markdown",
      "source": [
        "Tarea."
      ],
      "metadata": {
        "id": "AWwskTHHYgrZ"
      }
    },
    {
      "cell_type": "code",
      "source": [
        "#Resta\n",
        "def resta(num1, num2):\n",
        "    return num1 - num2"
      ],
      "metadata": {
        "id": "ly6OlMaNYlTf"
      },
      "execution_count": null,
      "outputs": []
    },
    {
      "cell_type": "code",
      "source": [
        "print( \"la resta de 5 - 8 es: \", resta(5,8))"
      ],
      "metadata": {
        "colab": {
          "base_uri": "https://localhost:8080/"
        },
        "id": "hNyGL-hHYtxu",
        "outputId": "f1013abf-010c-4131-d9e2-689a4dc3c2d2"
      },
      "execution_count": null,
      "outputs": [
        {
          "output_type": "stream",
          "name": "stdout",
          "text": [
            "la resta de 5 - 8 es:  -3\n"
          ]
        }
      ]
    },
    {
      "cell_type": "code",
      "source": [
        "num1 = float(input(\"Num1: \"))\n",
        "num2 = float(input(\"Num2: \"))\n",
        "respuesta = resta(num1, num2)\n",
        "print(\"La resta es: \", respuesta)"
      ],
      "metadata": {
        "colab": {
          "base_uri": "https://localhost:8080/"
        },
        "id": "6ttGLBaGYvFB",
        "outputId": "d808c07d-0987-4da2-bc46-8f7c713eabe6"
      },
      "execution_count": null,
      "outputs": [
        {
          "output_type": "stream",
          "name": "stdout",
          "text": [
            "Num1: 9\n",
            "Num2: 6\n",
            "La resta es:  3.0\n"
          ]
        }
      ]
    },
    {
      "cell_type": "code",
      "source": [
        "#Celcius a farenheith.\n",
        "def celciusFarenheith(c):\n",
        "  return c*1.8 + 32"
      ],
      "metadata": {
        "id": "gSI3XJKhY079"
      },
      "execution_count": null,
      "outputs": []
    },
    {
      "cell_type": "code",
      "source": [
        "c = int (input(\"grados c: \"))\n",
        "f = celciusFarenheith(c)\n",
        "print(\"F: \", f)"
      ],
      "metadata": {
        "colab": {
          "base_uri": "https://localhost:8080/"
        },
        "id": "ZMqJSJmIB_04",
        "outputId": "6496ef11-df4a-46a8-be93-3a965cfe42b7"
      },
      "execution_count": null,
      "outputs": [
        {
          "output_type": "stream",
          "name": "stdout",
          "text": [
            "grados c: 3\n",
            "F:  37.4\n"
          ]
        }
      ]
    },
    {
      "cell_type": "code",
      "source": [
        "#Farenheit a Celcius\n",
        "def farenheithCelcius(f):\n",
        "  return (f - 32) * 5/9"
      ],
      "metadata": {
        "id": "cVuFAcK7CEXB"
      },
      "execution_count": null,
      "outputs": []
    },
    {
      "cell_type": "code",
      "source": [
        "f = float (input(\"Grados F: \"))\n",
        "c = farenheithCelcius(f)\n",
        "print(\"C: \", c)"
      ],
      "metadata": {
        "colab": {
          "base_uri": "https://localhost:8080/"
        },
        "id": "1X8aOZvMCITp",
        "outputId": "75f9fa65-e07c-4b6f-a7de-e752d6ad8794"
      },
      "execution_count": null,
      "outputs": [
        {
          "output_type": "stream",
          "name": "stdout",
          "text": [
            "Grados F: 89\n",
            "C:  31.666666666666668\n"
          ]
        }
      ]
    },
    {
      "cell_type": "code",
      "source": [
        "#Celcius a Kelvin\n",
        "def celciusKelvin (c):\n",
        " return (c + 273.15)"
      ],
      "metadata": {
        "id": "thwTY60ICMLn"
      },
      "execution_count": null,
      "outputs": []
    },
    {
      "cell_type": "code",
      "source": [
        "c = float (input(\"Grados C: \"))\n",
        "k = celciusKelvin(c)\n",
        "print(\"K: \", k)"
      ],
      "metadata": {
        "colab": {
          "base_uri": "https://localhost:8080/"
        },
        "id": "btQyjswxCQdJ",
        "outputId": "a416615f-efc5-4eef-a81a-3c95100ac911"
      },
      "execution_count": null,
      "outputs": [
        {
          "output_type": "stream",
          "name": "stdout",
          "text": [
            "Grados C: 0\n",
            "K:  273.15\n"
          ]
        }
      ]
    },
    {
      "cell_type": "code",
      "source": [
        "#Hacer un ejercicio en python haciendo de uso de funciones de usuario, que calcule el sueldo de un empleado, segun el numero de horas trabajadas y el valor por hora\n",
        "def sueldo(numHoras, ValorXhoras):\n",
        "  sueldo = numHoras * ValorXhoras * 30\n",
        "  return sueldo\n"
      ],
      "metadata": {
        "id": "RD7WjEOyCSqn"
      },
      "execution_count": null,
      "outputs": []
    },
    {
      "cell_type": "code",
      "source": [
        "numHoras = float(input(\"Hrs: \"))\n",
        "Valorxhoras = float(input(\"valor por hora: \"))\n",
        "sueldo = sueldo(numHoras, Valorxhoras)\n",
        "print(\"Sueldo: \", sueldo)"
      ],
      "metadata": {
        "colab": {
          "base_uri": "https://localhost:8080/"
        },
        "id": "vpnr_CY1CYfD",
        "outputId": "11b5cad0-2f99-4c73-e801-9ff02c046694"
      },
      "execution_count": null,
      "outputs": [
        {
          "output_type": "stream",
          "name": "stdout",
          "text": [
            "Hrs: 14\n",
            "valor por hora: 14\n",
            "Sueldo:  5880.0\n"
          ]
        }
      ]
    },
    {
      "cell_type": "code",
      "source": [
        "#Elevar un numero a exponente\n",
        "def exponenciacion(b,e):\n",
        "  return b**e\n",
        "\n",
        "b = float(input(\"Base: \"))\n",
        "e = float(input(\"Exponente: \"))\n",
        "\n",
        "resultado = exponenciacion(b,e)\n",
        "\n",
        "print(f\"{b} elevado a {e} es igual a {resultado}\")"
      ],
      "metadata": {
        "colab": {
          "base_uri": "https://localhost:8080/"
        },
        "id": "qVsvA-y6CbEx",
        "outputId": "75593ced-f7b1-4019-8347-71843def190d"
      },
      "execution_count": null,
      "outputs": [
        {
          "output_type": "stream",
          "name": "stdout",
          "text": [
            "Base: 5\n",
            "Exponente: 2\n",
            "5.0 elevado a 2.0 es igual a 25.0\n"
          ]
        }
      ]
    },
    {
      "cell_type": "markdown",
      "source": [
        "FUNCIONES **ANONIMAS**"
      ],
      "metadata": {
        "id": "gcXV9mKUCwgc"
      }
    },
    {
      "cell_type": "code",
      "source": [
        "def suma(a,b):\n",
        "  return a+b"
      ],
      "metadata": {
        "id": "HsmadDyhCzoX"
      },
      "execution_count": null,
      "outputs": []
    },
    {
      "cell_type": "code",
      "source": [
        "a = float(input(\"Num1: \"))\n",
        "b = float(input(\"Num2: \"))\n",
        "\n",
        "suma = suma(a,b)\n",
        "print(\"La suma es: \", suma)"
      ],
      "metadata": {
        "colab": {
          "base_uri": "https://localhost:8080/"
        },
        "id": "o7JK_j3qC3CW",
        "outputId": "2365e14c-dbbe-4f7a-f1b7-c70c0e1d9a36"
      },
      "execution_count": null,
      "outputs": [
        {
          "output_type": "stream",
          "name": "stdout",
          "text": [
            "Num1: 4\n",
            "Num2: 5\n",
            "La suma es:  9.0\n"
          ]
        }
      ]
    },
    {
      "cell_type": "code",
      "source": [
        "a = float(input(\"Num1: \"))\n",
        "b = float(input(\"Num2: \"))\n",
        "\n",
        "sum = lambda a,b: a+b\n",
        "print( \"La suma de \", a, \" mas b \", b, \" es igual \", sum(a,b) )"
      ],
      "metadata": {
        "colab": {
          "base_uri": "https://localhost:8080/"
        },
        "id": "sXIW-2HCVvLL",
        "outputId": "478cc76c-e571-47ec-b049-c770ea26e6f7"
      },
      "execution_count": null,
      "outputs": [
        {
          "output_type": "stream",
          "name": "stdout",
          "text": [
            "Num1: 4\n",
            "Num2: 4\n",
            "La suma de  4.0  mas b  4.0  es igual  8.0\n"
          ]
        }
      ]
    },
    {
      "cell_type": "markdown",
      "source": [
        "FUNCIONES PRECONSTRUIDAS"
      ],
      "metadata": {
        "id": "ghkE8QVaV0kO"
      }
    },
    {
      "cell_type": "code",
      "source": [
        "def extraerPrimeraLetra(dia):\n",
        "  return dia[0]"
      ],
      "metadata": {
        "id": "1s7rYSv1V11f"
      },
      "execution_count": null,
      "outputs": []
    },
    {
      "cell_type": "code",
      "source": [
        "#map\n",
        "semana = [\"Domingo\", \"Lunes\", \"Martes\", \"Miercoles\", \"Jueves\", \"Viernes\", \"Sabado\"]\n",
        "\n",
        "primeraLetraDia = map(lambda dia: dia[0], semana)\n",
        "print(list(primeraLetraDia))\n",
        "\n",
        "mayusSemana = map(lambda dia: dia.upper(), semana)\n",
        "print(list(mayusSemana))\n",
        "\n",
        "print( list(map(extraerPrimeraLetra, semana)) )"
      ],
      "metadata": {
        "colab": {
          "base_uri": "https://localhost:8080/"
        },
        "id": "LLHf1XGVV5N2",
        "outputId": "6dd02a30-314b-4b4a-975d-3df80c378c99"
      },
      "execution_count": null,
      "outputs": [
        {
          "output_type": "stream",
          "name": "stdout",
          "text": [
            "['D', 'L', 'M', 'M', 'J', 'V', 'S']\n",
            "['DOMINGO', 'LUNES', 'MARTES', 'MIERCOLES', 'JUEVES', 'VIERNES', 'SABADO']\n",
            "['D', 'L', 'M', 'M', 'J', 'V', 'S']\n"
          ]
        }
      ]
    },
    {
      "cell_type": "code",
      "source": [
        "numeros = [2,4,6,8,7,9]\n",
        "potencia = int(input(\"Potencia: \"))\n",
        "numeroPotencia = map(lambda num: num**potencia, numeros)\n",
        "\n",
        "print(list(numeroPotencia))"
      ],
      "metadata": {
        "colab": {
          "base_uri": "https://localhost:8080/"
        },
        "id": "SHxWpfNpV77V",
        "outputId": "29d26e10-b459-4139-80db-a3d951e20017"
      },
      "execution_count": null,
      "outputs": [
        {
          "output_type": "stream",
          "name": "stdout",
          "text": [
            "Potencia: 4\n",
            "[16, 256, 1296, 4096, 2401, 6561]\n"
          ]
        }
      ]
    },
    {
      "cell_type": "code",
      "source": [
        "ntabla  = int(input(\"Tabla:\"))\n",
        "numeros = [1,2,3,4,5,6,7,8,9,10]\n",
        "tabla = map(lambda num: num*ntabla, numeros)\n",
        "\n",
        "print(list(tabla))"
      ],
      "metadata": {
        "colab": {
          "base_uri": "https://localhost:8080/"
        },
        "id": "ry18Bq_cWAle",
        "outputId": "9eaff91c-1be1-4e3a-c41a-39fe207c3864"
      },
      "execution_count": null,
      "outputs": [
        {
          "output_type": "stream",
          "name": "stdout",
          "text": [
            "Tabla:4\n",
            "[4, 8, 12, 16, 20, 24, 28, 32, 36, 40]\n"
          ]
        }
      ]
    },
    {
      "cell_type": "code",
      "source": [
        "serie = [5,6,9,2,7,8]\n",
        "pares = filter(lambda num: num%2==0, serie) #% ===> a modulo, obtener el residuo.\n",
        "\n",
        "print(list(pares))\n",
        "\n",
        "impares = filter(lambda num: num%2!=0, serie)\n",
        "\n",
        "print(list(impares))"
      ],
      "metadata": {
        "colab": {
          "base_uri": "https://localhost:8080/"
        },
        "id": "OZw1FJ4HWEMq",
        "outputId": "a6e575b2-c6ca-4014-be91-2c3576479042"
      },
      "execution_count": null,
      "outputs": [
        {
          "output_type": "stream",
          "name": "stdout",
          "text": [
            "[6, 2, 8]\n",
            "[5, 9, 7]\n"
          ]
        }
      ]
    },
    {
      "cell_type": "code",
      "source": [
        "serieUser = input(\"Serie: \") # \"5,2,8,1\" --> serie[0]=\"5\"; serie[1]=\"2\"; etc..\n",
        "serieUser = serieUser.split(\",\")\n",
        "\n",
        "pares = filter(lambda num: int(num)%2==0, serieUser)\n",
        "impares = filter(lambda num: int(num)%2!=0, serieUser)\n",
        "\n",
        "print(\"Pares: \",list(pares))\n",
        "print(\"Impares: \", list(impares))"
      ],
      "metadata": {
        "colab": {
          "base_uri": "https://localhost:8080/"
        },
        "id": "vqqnsbmJWFId",
        "outputId": "ca3d9d83-546d-44c1-fb65-efbca39ff95f"
      },
      "execution_count": null,
      "outputs": [
        {
          "output_type": "stream",
          "name": "stdout",
          "text": [
            "Serie: 1,2,3,4,5,6\n",
            "Pares:  ['2', '4', '6']\n",
            "Impares:  ['1', '3', '5']\n"
          ]
        }
      ]
    },
    {
      "cell_type": "markdown",
      "source": [
        "Hacer un ejercicio en python usando la funcion filter y lambda que de una seria de notas introducidas por el usuario, establezca cuantos pasan la materia (>6) y cuantos se quedan (<6)."
      ],
      "metadata": {
        "id": "VC4VzYG3WTP2"
      }
    },
    {
      "cell_type": "code",
      "source": [
        "#reduce\n",
        "from functools import reduce\n",
        "\n",
        "numeros = [5,4,9,6,8,2,3]\n",
        "suma = reduce(lambda num, acum: num+acum, numeros)\n",
        "\n",
        "sumaPares = reduce(lambda num, acum: num+acum, filter(lambda num: num%2==0, numeros))\n",
        "sumaPar = reduce(lambda num, acum: acum + num if num%2==0 else 0, numeros) #pendiente de revisar...\n",
        "\n",
        "print(\"La suma es: \", suma)\n",
        "print(\"La suma de los pares es: \", sumaPares)\n",
        "print(\"Suma Pares: \", sumaPar)"
      ],
      "metadata": {
        "colab": {
          "base_uri": "https://localhost:8080/"
        },
        "id": "L52wvMGDWYWj",
        "outputId": "3f9c0194-7b9c-4089-83de-76f4b7dc916d"
      },
      "execution_count": null,
      "outputs": [
        {
          "output_type": "stream",
          "name": "stdout",
          "text": [
            "La suma es:  37\n",
            "La suma de los pares es:  20\n",
            "Suma Pares:  13\n"
          ]
        }
      ]
    }
  ]
}